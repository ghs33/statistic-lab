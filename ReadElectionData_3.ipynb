{
  "nbformat": 4,
  "nbformat_minor": 0,
  "metadata": {
    "colab": {
      "name": "ReadElectionData_3.ipynb",
      "provenance": [],
      "collapsed_sections": []
    },
    "kernelspec": {
      "display_name": "Python 3",
      "language": "python",
      "name": "python3"
    },
    "language_info": {
      "codemirror_mode": {
        "name": "ipython",
        "version": 3
      },
      "file_extension": ".py",
      "mimetype": "text/x-python",
      "name": "python",
      "nbconvert_exporter": "python",
      "pygments_lexer": "ipython3",
      "version": "3.7.4"
    }
  },
  "cells": [
    {
      "cell_type": "markdown",
      "metadata": {
        "id": "lyQ45Phps6Z6"
      },
      "source": [
        "# **Israel Elections Data Analysis**\n",
        "\n",
        "An example notebook showing how to read and display the Israel 2021 elections results. This is the notebook for the first week."
      ]
    },
    {
      "cell_type": "code",
      "metadata": {
        "colab": {
          "base_uri": "https://localhost:8080/"
        },
        "id": "eRKSr5EstAUm",
        "outputId": "e36b5bd6-f462-4ad4-f48b-50d1cde5be8a"
      },
      "source": [
        "# Add a check if we run in google colab or locally in jupyter notebook\n",
        "run_in_colab = False\n",
        "if 'google.colab' in str(get_ipython()):\n",
        "    run_in_colab = True\n",
        "    print('Running on CoLab')\n",
        "else:\n",
        "    print('Running locally on Jupyter')\n",
        "\n"
      ],
      "execution_count": 3,
      "outputs": [
        {
          "output_type": "stream",
          "name": "stdout",
          "text": [
            "Running on CoLab\n"
          ]
        }
      ]
    },
    {
      "cell_type": "code",
      "metadata": {
        "id": "FTNiH27ZzL1F"
      },
      "source": [
        "# First install tha needed packages using conda in the current Jupyter kernel\n",
        "# Run once - should take a long time!\n",
        "import sys\n",
        "#if not(run_in_colab):\n",
        "#  !conda install --yes --prefix {sys.prefix} numpy\n",
        "#  !conda install --yes --prefix {sys.prefix} pandas\n",
        "#  !conda install --yes --prefix {sys.prefix} matplotlib\n",
        "#  !conda install --yes --prefix {sys.prefix} statsmodels  # statistical modelling \n",
        "#  !conda install --yes --prefix {sys.prefix} xlrd  # read excel \n",
        "\n",
        "\n",
        "\n",
        "# Alternatively, if your python wasn't installed using anaconda, we can use pip install: \n",
        "# !{sys.executable} -m pip install numpy\n",
        "# !{sys.executable} -m pip install pandas\n",
        "# !{sys.executable} -m pip install matplotlib\n"
      ],
      "execution_count": 4,
      "outputs": []
    },
    {
      "cell_type": "code",
      "metadata": {
        "id": "iC0NlMvHzL1L",
        "colab": {
          "base_uri": "https://localhost:8080/"
        },
        "outputId": "4fe64929-fa48-4074-f2e0-5783d6d2b8c1"
      },
      "source": [
        "# Import modules \n",
        "import numpy as np  # a module for working with numerical array \n",
        "import pandas as pd  # a module for working with data-frames\n",
        "import statsmodels.api as sm  # a module for statistical modelling (e.g. regression analysis)"
      ],
      "execution_count": 5,
      "outputs": [
        {
          "output_type": "stream",
          "name": "stderr",
          "text": [
            "/usr/local/lib/python3.7/dist-packages/statsmodels/tools/_testing.py:19: FutureWarning: pandas.util.testing is deprecated. Use the functions in the public API at pandas.testing instead.\n",
            "  import pandas.util.testing as tm\n"
          ]
        }
      ]
    },
    {
      "cell_type": "markdown",
      "metadata": {
        "id": "pGTS_zCRZGfV"
      },
      "source": [
        "First, we need to mount our local drive to the colab network"
      ]
    },
    {
      "cell_type": "code",
      "metadata": {
        "id": "RWSJpsyKqHjH",
        "colab": {
          "base_uri": "https://localhost:8080/"
        },
        "outputId": "3a962457-e8fe-4f49-ef03-32843fb4d460"
      },
      "source": [
        "# Mount drive in google colab\n",
        "if run_in_colab:\n",
        "    from google.colab import drive\n",
        "    drive.mount('/content/drive')\n",
        "else:  # Set local path \n",
        "    data_path = \"C:/Users/Or Zuk/Google Drive/HUJI/Teaching/Lab_52568/Data/Elections/\"  \n"
      ],
      "execution_count": 6,
      "outputs": [
        {
          "output_type": "stream",
          "name": "stdout",
          "text": [
            "Mounted at /content/drive\n"
          ]
        }
      ]
    },
    {
      "cell_type": "code",
      "metadata": {
        "id": "xaG-KYCw8XZz",
        "colab": {
          "resources": {
            "http://localhost:8080/nbextensions/google.colab/files.js": {
              "data": "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",
              "ok": true,
              "headers": [
                [
                  "content-type",
                  "application/javascript"
                ]
              ],
              "status": 200,
              "status_text": ""
            }
          },
          "base_uri": "https://localhost:8080/",
          "height": 108
        },
        "outputId": "9805dc15-257f-41f6-ff18-96cbc7ad8eee"
      },
      "source": [
        "# Loading elections 2021 elections data:\n",
        "if run_in_colab:\n",
        "    from google.colab import files\n",
        "    uploaded = files.upload()"
      ],
      "execution_count": 7,
      "outputs": [
        {
          "output_type": "display_data",
          "data": {
            "text/html": [
              "\n",
              "     <input type=\"file\" id=\"files-339a7190-4114-49ec-a960-da26928ea9d8\" name=\"files[]\" multiple disabled\n",
              "        style=\"border:none\" />\n",
              "     <output id=\"result-339a7190-4114-49ec-a960-da26928ea9d8\">\n",
              "      Upload widget is only available when the cell has been executed in the\n",
              "      current browser session. Please rerun this cell to enable.\n",
              "      </output>\n",
              "      <script src=\"/nbextensions/google.colab/files.js\"></script> "
            ],
            "text/plain": [
              "<IPython.core.display.HTML object>"
            ]
          },
          "metadata": {}
        },
        {
          "output_type": "stream",
          "name": "stdout",
          "text": [
            "Saving votes per ballot 2021.csv to votes per ballot 2021.csv\n",
            "Saving votes per city 2021.csv to votes per city 2021.csv\n"
          ]
        }
      ]
    },
    {
      "cell_type": "code",
      "metadata": {
        "id": "QxK5YlBH1geD"
      },
      "source": [
        "import io\n",
        "\n",
        "data_type = \"city\" # \"ballot\"  # city\n",
        "if   run_in_colab:\n",
        "    df_2021_raw = pd.read_csv(io.BytesIO(uploaded['votes per city 2021.csv']),  encoding = 'iso-8859-8', index_col='שם ישוב')\n",
        "else:  # read local file\n",
        "    if data_type == \"ballot\":\n",
        "        df_2021_raw = pd.read_csv(data_path + 'votes per ballot 2021.csv',  encoding = 'iso-8859-8', index_col='שם ישוב')\n",
        "        # preprocessing of ballot\n",
        "        df_2021 = df_2021_raw.drop('סמל ועדה', axis=1) # new column added in Sep 2019\n",
        "        df_2021 = df_2021[df_2021.columns[8:-1]] # removing \"metadata\" columns\n",
        "    else:\n",
        "        df_2021_raw = pd.read_csv(data_path + 'votes per city 2021.csv',  encoding = 'iso-8859-8', index_col='שם ישוב')\n",
        "        # preprocessing of cities \n",
        "        df_2021 = df_2021_raw.drop('סמל ועדה', axis=1) # new column added in Sep 2019\n",
        "        df_2021 = df_2021[df_2021.columns[5:-1]] # removing \"metadata\" columns\n",
        "# Dataset is now stored in a Pandas Dataframe"
      ],
      "execution_count": 33,
      "outputs": []
    },
    {
      "cell_type": "code",
      "metadata": {
        "colab": {
          "base_uri": "https://localhost:8080/"
        },
        "id": "PVfhjKgS16sL",
        "outputId": "aab22f62-61ee-4947-e6b6-fa488302f984"
      },
      "source": [
        "df_2021 = df_2021_raw.drop('סמל ועדה', axis=1) # new column added in Sep 2019\n",
        "df_2021 = df_2021[df_2021.columns[5:-1]] # removing \"metadata\" columns\n",
        "print(\"{} votes in March 2021\".format(df_2021_raw['כשרים']['מעטפות חיצוניות']) + ' מעטפות חיצוניות ')"
      ],
      "execution_count": 34,
      "outputs": [
        {
          "output_type": "stream",
          "name": "stdout",
          "text": [
            "421619 votes in March 2021 מעטפות חיצוניות \n"
          ]
        }
      ]
    },
    {
      "cell_type": "code",
      "metadata": {
        "colab": {
          "base_uri": "https://localhost:8080/",
          "height": 237
        },
        "id": "WkA-6k1q--vR",
        "outputId": "2aa342a9-70bd-4dd7-bdc9-f6dfb75c84d5"
      },
      "source": [
        "# df_2021.reset_index(inplace=True)\n",
        "df_2021.style.set_properties(**{'text-align': 'left'})\n",
        "df_2021.head()"
      ],
      "execution_count": 37,
      "outputs": [
        {
          "output_type": "execute_result",
          "data": {
            "text/html": [
              "<div>\n",
              "<style scoped>\n",
              "    .dataframe tbody tr th:only-of-type {\n",
              "        vertical-align: middle;\n",
              "    }\n",
              "\n",
              "    .dataframe tbody tr th {\n",
              "        vertical-align: top;\n",
              "    }\n",
              "\n",
              "    .dataframe thead th {\n",
              "        text-align: right;\n",
              "    }\n",
              "</style>\n",
              "<table border=\"1\" class=\"dataframe\">\n",
              "  <thead>\n",
              "    <tr style=\"text-align: right;\">\n",
              "      <th></th>\n",
              "      <th>אמת</th>\n",
              "      <th>ב</th>\n",
              "      <th>ג</th>\n",
              "      <th>ודעם</th>\n",
              "      <th>ז</th>\n",
              "      <th>זץ</th>\n",
              "      <th>ט</th>\n",
              "      <th>י</th>\n",
              "      <th>יז</th>\n",
              "      <th>ינ</th>\n",
              "      <th>יף</th>\n",
              "      <th>יק</th>\n",
              "      <th>יר</th>\n",
              "      <th>כ</th>\n",
              "      <th>כך</th>\n",
              "      <th>כן</th>\n",
              "      <th>ל</th>\n",
              "      <th>מחל</th>\n",
              "      <th>מרצ</th>\n",
              "      <th>נ</th>\n",
              "      <th>ני</th>\n",
              "      <th>נר</th>\n",
              "      <th>עם</th>\n",
              "      <th>פה</th>\n",
              "      <th>ףז</th>\n",
              "      <th>צי</th>\n",
              "      <th>צכ</th>\n",
              "      <th>צף</th>\n",
              "      <th>ץ</th>\n",
              "      <th>ק</th>\n",
              "      <th>קי</th>\n",
              "      <th>קך</th>\n",
              "      <th>קץ</th>\n",
              "      <th>ר</th>\n",
              "      <th>רנ</th>\n",
              "      <th>רף</th>\n",
              "      <th>רק</th>\n",
              "      <th>שס</th>\n",
              "      <th>ת</th>\n",
              "    </tr>\n",
              "    <tr>\n",
              "      <th>שם ישוב</th>\n",
              "      <th></th>\n",
              "      <th></th>\n",
              "      <th></th>\n",
              "      <th></th>\n",
              "      <th></th>\n",
              "      <th></th>\n",
              "      <th></th>\n",
              "      <th></th>\n",
              "      <th></th>\n",
              "      <th></th>\n",
              "      <th></th>\n",
              "      <th></th>\n",
              "      <th></th>\n",
              "      <th></th>\n",
              "      <th></th>\n",
              "      <th></th>\n",
              "      <th></th>\n",
              "      <th></th>\n",
              "      <th></th>\n",
              "      <th></th>\n",
              "      <th></th>\n",
              "      <th></th>\n",
              "      <th></th>\n",
              "      <th></th>\n",
              "      <th></th>\n",
              "      <th></th>\n",
              "      <th></th>\n",
              "      <th></th>\n",
              "      <th></th>\n",
              "      <th></th>\n",
              "      <th></th>\n",
              "      <th></th>\n",
              "      <th></th>\n",
              "      <th></th>\n",
              "      <th></th>\n",
              "      <th></th>\n",
              "      <th></th>\n",
              "      <th></th>\n",
              "      <th></th>\n",
              "    </tr>\n",
              "  </thead>\n",
              "  <tbody>\n",
              "    <tr>\n",
              "      <th>אבירים</th>\n",
              "      <td>47</td>\n",
              "      <td>0</td>\n",
              "      <td>0</td>\n",
              "      <td>3</td>\n",
              "      <td>0</td>\n",
              "      <td>0</td>\n",
              "      <td>2</td>\n",
              "      <td>0</td>\n",
              "      <td>3</td>\n",
              "      <td>0</td>\n",
              "      <td>0</td>\n",
              "      <td>0</td>\n",
              "      <td>0</td>\n",
              "      <td>0</td>\n",
              "      <td>0</td>\n",
              "      <td>16</td>\n",
              "      <td>2</td>\n",
              "      <td>5</td>\n",
              "      <td>31</td>\n",
              "      <td>0</td>\n",
              "      <td>0</td>\n",
              "      <td>0</td>\n",
              "      <td>0</td>\n",
              "      <td>27</td>\n",
              "      <td>0</td>\n",
              "      <td>0</td>\n",
              "      <td>0</td>\n",
              "      <td>0</td>\n",
              "      <td>0</td>\n",
              "      <td>0</td>\n",
              "      <td>0</td>\n",
              "      <td>0</td>\n",
              "      <td>0</td>\n",
              "      <td>5</td>\n",
              "      <td>0</td>\n",
              "      <td>0</td>\n",
              "      <td>0</td>\n",
              "      <td>1</td>\n",
              "      <td>8</td>\n",
              "    </tr>\n",
              "    <tr>\n",
              "      <th>אדירים</th>\n",
              "      <td>1</td>\n",
              "      <td>7</td>\n",
              "      <td>4</td>\n",
              "      <td>0</td>\n",
              "      <td>0</td>\n",
              "      <td>0</td>\n",
              "      <td>9</td>\n",
              "      <td>0</td>\n",
              "      <td>1</td>\n",
              "      <td>0</td>\n",
              "      <td>0</td>\n",
              "      <td>0</td>\n",
              "      <td>0</td>\n",
              "      <td>0</td>\n",
              "      <td>0</td>\n",
              "      <td>3</td>\n",
              "      <td>0</td>\n",
              "      <td>84</td>\n",
              "      <td>0</td>\n",
              "      <td>0</td>\n",
              "      <td>0</td>\n",
              "      <td>0</td>\n",
              "      <td>0</td>\n",
              "      <td>2</td>\n",
              "      <td>0</td>\n",
              "      <td>0</td>\n",
              "      <td>0</td>\n",
              "      <td>0</td>\n",
              "      <td>0</td>\n",
              "      <td>0</td>\n",
              "      <td>0</td>\n",
              "      <td>0</td>\n",
              "      <td>0</td>\n",
              "      <td>2</td>\n",
              "      <td>0</td>\n",
              "      <td>0</td>\n",
              "      <td>0</td>\n",
              "      <td>61</td>\n",
              "      <td>6</td>\n",
              "    </tr>\n",
              "    <tr>\n",
              "      <th>אושה</th>\n",
              "      <td>72</td>\n",
              "      <td>7</td>\n",
              "      <td>0</td>\n",
              "      <td>3</td>\n",
              "      <td>0</td>\n",
              "      <td>0</td>\n",
              "      <td>0</td>\n",
              "      <td>0</td>\n",
              "      <td>2</td>\n",
              "      <td>0</td>\n",
              "      <td>0</td>\n",
              "      <td>1</td>\n",
              "      <td>0</td>\n",
              "      <td>0</td>\n",
              "      <td>0</td>\n",
              "      <td>37</td>\n",
              "      <td>8</td>\n",
              "      <td>24</td>\n",
              "      <td>20</td>\n",
              "      <td>0</td>\n",
              "      <td>0</td>\n",
              "      <td>0</td>\n",
              "      <td>0</td>\n",
              "      <td>86</td>\n",
              "      <td>0</td>\n",
              "      <td>0</td>\n",
              "      <td>0</td>\n",
              "      <td>0</td>\n",
              "      <td>0</td>\n",
              "      <td>0</td>\n",
              "      <td>0</td>\n",
              "      <td>0</td>\n",
              "      <td>0</td>\n",
              "      <td>1</td>\n",
              "      <td>0</td>\n",
              "      <td>0</td>\n",
              "      <td>0</td>\n",
              "      <td>0</td>\n",
              "      <td>15</td>\n",
              "    </tr>\n",
              "    <tr>\n",
              "      <th>אחווה</th>\n",
              "      <td>14</td>\n",
              "      <td>4</td>\n",
              "      <td>0</td>\n",
              "      <td>0</td>\n",
              "      <td>0</td>\n",
              "      <td>0</td>\n",
              "      <td>4</td>\n",
              "      <td>0</td>\n",
              "      <td>0</td>\n",
              "      <td>0</td>\n",
              "      <td>0</td>\n",
              "      <td>0</td>\n",
              "      <td>0</td>\n",
              "      <td>0</td>\n",
              "      <td>0</td>\n",
              "      <td>36</td>\n",
              "      <td>3</td>\n",
              "      <td>27</td>\n",
              "      <td>10</td>\n",
              "      <td>0</td>\n",
              "      <td>0</td>\n",
              "      <td>0</td>\n",
              "      <td>0</td>\n",
              "      <td>37</td>\n",
              "      <td>0</td>\n",
              "      <td>0</td>\n",
              "      <td>0</td>\n",
              "      <td>0</td>\n",
              "      <td>0</td>\n",
              "      <td>0</td>\n",
              "      <td>0</td>\n",
              "      <td>0</td>\n",
              "      <td>0</td>\n",
              "      <td>0</td>\n",
              "      <td>0</td>\n",
              "      <td>0</td>\n",
              "      <td>0</td>\n",
              "      <td>2</td>\n",
              "      <td>8</td>\n",
              "    </tr>\n",
              "    <tr>\n",
              "      <th>איבים</th>\n",
              "      <td>0</td>\n",
              "      <td>4</td>\n",
              "      <td>0</td>\n",
              "      <td>0</td>\n",
              "      <td>0</td>\n",
              "      <td>1</td>\n",
              "      <td>10</td>\n",
              "      <td>0</td>\n",
              "      <td>0</td>\n",
              "      <td>0</td>\n",
              "      <td>0</td>\n",
              "      <td>0</td>\n",
              "      <td>0</td>\n",
              "      <td>0</td>\n",
              "      <td>0</td>\n",
              "      <td>5</td>\n",
              "      <td>0</td>\n",
              "      <td>17</td>\n",
              "      <td>0</td>\n",
              "      <td>0</td>\n",
              "      <td>0</td>\n",
              "      <td>1</td>\n",
              "      <td>0</td>\n",
              "      <td>0</td>\n",
              "      <td>0</td>\n",
              "      <td>0</td>\n",
              "      <td>0</td>\n",
              "      <td>0</td>\n",
              "      <td>0</td>\n",
              "      <td>0</td>\n",
              "      <td>0</td>\n",
              "      <td>1</td>\n",
              "      <td>0</td>\n",
              "      <td>0</td>\n",
              "      <td>0</td>\n",
              "      <td>0</td>\n",
              "      <td>0</td>\n",
              "      <td>1</td>\n",
              "      <td>0</td>\n",
              "    </tr>\n",
              "  </tbody>\n",
              "</table>\n",
              "</div>"
            ],
            "text/plain": [
              "         אמת  ב  ג  ודעם  ז  זץ   ט  י  יז  ...  קי  קך  קץ  ר  רנ  רף  רק  שס   ת\n",
              "שם ישוב                                     ...                                   \n",
              "אבירים    47  0  0     3  0   0   2  0   3  ...   0   0   0  5   0   0   0   1   8\n",
              "אדירים     1  7  4     0  0   0   9  0   1  ...   0   0   0  2   0   0   0  61   6\n",
              "אושה      72  7  0     3  0   0   0  0   2  ...   0   0   0  1   0   0   0   0  15\n",
              "אחווה     14  4  0     0  0   0   4  0   0  ...   0   0   0  0   0   0   0   2   8\n",
              "איבים      0  4  0     0  0   1  10  0   0  ...   0   1   0  0   0   0   0   1   0\n",
              "\n",
              "[5 rows x 39 columns]"
            ]
          },
          "metadata": {},
          "execution_count": 37
        }
      ]
    },
    {
      "cell_type": "code",
      "metadata": {
        "id": "870LcQWgv2OB"
      },
      "source": [
        "from matplotlib import pyplot as plt\n"
      ],
      "execution_count": 38,
      "outputs": []
    },
    {
      "cell_type": "code",
      "metadata": {
        "id": "gvcZSFcX_w49"
      },
      "source": [
        "# Compute votes share only for parties above a certain threshold \n",
        "def parties_votes_percents(df, thresh):\n",
        "    par = df.sum().div(df.sum().sum()).sort_values(ascending=False)\n",
        "    return par[par > thresh]\n",
        "\n",
        "total_votes = parties_votes_percents(df_2021, 0.001)  # total votes for each party"
      ],
      "execution_count": 39,
      "outputs": []
    },
    {
      "cell_type": "code",
      "metadata": {
        "id": "nBDU6GHnDCcN"
      },
      "source": [
        "# Bar plot for a party, only showing values above a certain threshold\n",
        "def party_bar(df, thresh, city):\n",
        "    width = 0.3  # set column width \n",
        "    votes = parties_votes_percents(df, thresh)  # total votes for each party\n",
        "    n = len(votes)  # number of parties\n",
        "    names = votes.keys()\n",
        "\n",
        "    rev_names = [name[::-1] for name in list(names)]\n",
        "    fig, ax = plt.subplots()  # plt.subplots()\n",
        "\n",
        "    city_votes = df.loc[city,names] / df.loc[city,names].sum()\n",
        "    all_bar = ax.bar(np.arange(n), list(votes), width, color='b')\n",
        "    city_bar = ax.bar(np.arange(n)+width, list(city_votes), width, color='r')\n",
        "\n",
        "    ax.set_ylabel('Votes percent')\n",
        "    ax.set_xlabel('Parties Names')\n",
        "    ax.set_title('Votes percent per party 2019')\n",
        "    ax.set_xticks(np.arange(n))\n",
        "    ax.set_xticklabels(rev_names)\n",
        "    ax.legend((all_bar[0], city_bar[0]), ('Israel', city[::-1]))\n",
        "    plt.show()\n",
        "\n",
        "    return fig, ax"
      ],
      "execution_count": 40,
      "outputs": []
    },
    {
      "cell_type": "code",
      "metadata": {
        "id": "xMmIS2ZIfsjN"
      },
      "source": [
        "def find_top_city(df, party):\n",
        "\n",
        "  votes_percent_per_city = df.div(df.sum(axis=1), axis=0)\n",
        "  print(votes_percent_per_city[party].max())\n",
        "  print(votes_percent_per_city[party].idxmax())"
      ],
      "execution_count": 41,
      "outputs": []
    },
    {
      "cell_type": "code",
      "metadata": {
        "id": "lzlObe4mHPVn"
      },
      "source": [
        "# Show party votes for two parties\n",
        "def two_parties_scatter(df, party1, party2):\n",
        "    votes_per_city = df.sum(axis=1)\n",
        "    party_share1 = df[party1] / votes_per_city\n",
        "    party_share2 = df[party2] / votes_per_city\n",
        "\n",
        "    plt.scatter(party_share1, party_share2)  # Here draw circles with area proportional to city size\n",
        "    plt.xlabel(party1[::-1])\n",
        "    plt.ylabel(party2[::-1])\n",
        "    plt.title('Scatter for two parties ' )\n",
        "    plt.show()"
      ],
      "execution_count": 42,
      "outputs": []
    },
    {
      "cell_type": "code",
      "metadata": {
        "id": "VWcRsu7sHPVp"
      },
      "source": [
        "# Display heatmap for a correlation matrix \n",
        "# Input: \n",
        "# corr_mat - matrix of correlations \n",
        "# names - vector with names for each row/column\n",
        "def heatmap_corr(corr_mat, names):\n",
        "    rev_names = [name[::-1] for name in list(names)]\n",
        "    fig, ax = plt.subplots()\n",
        "    im = ax.imshow(corr_mat, cmap=plt.get_cmap('viridis'))\n",
        "    n = corr_mat.shape[0]  # get number of variables \n",
        "    ax.set_xticks(np.arange(n))\n",
        "    ax.set_yticks(np.arange(n))\n",
        "    ax.set_xticklabels(rev_names)\n",
        "    ax.set_yticklabels(rev_names)\n",
        "    ax.set_title(\"Parties pairwise correlations\")\n",
        "    \n",
        "    # Create colorbar\n",
        "    cbar = ax.figure.colorbar(im, ax=ax) #  **cbar_kw)\n",
        "    cbar.ax.set_ylabel('votes correlation', rotation=-90, va=\"bottom\")"
      ],
      "execution_count": 43,
      "outputs": []
    },
    {
      "cell_type": "markdown",
      "metadata": {
        "id": "mj2x1vMkHPVp"
      },
      "source": [
        "Create a dictionary mapping parties names to voting letters"
      ]
    },
    {
      "cell_type": "code",
      "metadata": {
        "id": "dxBOht75HPVp"
      },
      "source": [
        "parties_dict_2021 ={'אמת' : \"עבודה\", 'מרצ' : \"מרצ\",  'ג' : \"יהדות התורה\", 'עם'  : \"רעם\",  'ת'  : \"תקוה חדשה\", 'ודעם'  : \"הרשימה המשותפת\", 'ב'  : \"ימינה\", 'ט'  : \"הציונות הדתית\",\n",
        " 'ל'  : \"ישראל ביתנו\", 'מחל'  : \"הליכוד\",  'פה'  : \"יש עתיד\", 'כן'  : \"כחול לבן\", 'שס'  : \"שס\"}\n"
      ],
      "execution_count": 44,
      "outputs": []
    },
    {
      "cell_type": "markdown",
      "metadata": {
        "id": "qdK2WrN5HPVq"
      },
      "source": [
        "Read the election results by ballot (not city)"
      ]
    },
    {
      "cell_type": "code",
      "metadata": {
        "id": "3o0FXqu_HPVq"
      },
      "source": [
        "if   run_in_colab:\n",
        "    df_2021_ballots_raw = pd.read_csv(io.BytesIO(uploaded['votes per ballot 2021.csv']),  encoding = 'iso-8859-8', index_col='שם ישוב')\n",
        "else:\n",
        "  df_2021_ballots_raw = pd.read_csv(data_path + 'votes per ballot 2021.csv',  encoding = 'iso-8859-8', index_col='שם ישוב')  # need to read locally"
      ],
      "execution_count": 45,
      "outputs": []
    },
    {
      "cell_type": "code",
      "metadata": {
        "id": "x9cWw2gjHPVq"
      },
      "source": [
        "df_2021_ballots = df_2021_ballots_raw.drop('סמל ועדה', axis=1) # new column added in Sep 2019\n",
        "df_2021_ballots = df_2021_ballots[df_2021_ballots.columns[8:-1]] # removing \"metadata\" columns\n",
        "df_2021_ballots_raw = df_2021_ballots_raw.drop(index = \"מעטפות חיצוניות\")\n",
        "df_2021_ballots= df_2021_ballots.drop(index = \"מעטפות חיצוניות\")\n",
        "df_2021_ballots = df_2021_ballots[parties_dict_2021.keys()]"
      ],
      "execution_count": 46,
      "outputs": []
    },
    {
      "cell_type": "markdown",
      "metadata": {
        "id": "-2M8XykTInPN"
      },
      "source": [
        "# Solution\n",
        "\n",
        "### 1"
      ]
    },
    {
      "cell_type": "code",
      "metadata": {
        "id": "eN9KuhzmHPVr"
      },
      "source": [
        "# Make corrections to the votes \n",
        "# Correct for voting turnout in cities/ballots (from lab2)\n",
        "# df - matrix of voters for each party and each city\n",
        "# v - vector of total bz\"b for each city \n",
        "# Assume that for each city, the proportion for each party is the same fofr voters and non-voters\n",
        "def simple_turnout_correction(df, v):\n",
        "    p = df.sum().div(df.sum().sum())  # votes without correction\n",
        "    exp_df = pd.DataFrame().reindex_like(df)\n",
        "    if v.size == df.shape[0]:\n",
        "        v_mat = pd.concat([alpha] * (df.shape[1]), axis=1)\n",
        "        exp_df = np.random.binomial(df,v_mat)\n",
        "    elif v.size == df.shape[1]:\n",
        "        v_mat = pd.DataFrame([v]*(df.shape[0]))\n",
        "        exp_df = np.random.binomial(df,v_mat)\n",
        "    else:\n",
        "        v_mat = v\n",
        "        exp_df = np.random.binomial(df,v_mat)\n",
        "    # q_hat = ...\n",
        "    return pd.DataFrame(exp_df,columns=df.columns,index = df.index)"
      ],
      "execution_count": 47,
      "outputs": []
    },
    {
      "cell_type": "markdown",
      "metadata": {
        "id": "wzRXodBB2AaN"
      },
      "source": [
        "# 2"
      ]
    },
    {
      "cell_type": "code",
      "metadata": {
        "id": "FCknQWUzqqem"
      },
      "source": [
        "bazab = df_2021_ballots_raw[\"בזב\"]\n",
        "kosher = df_2021_ballots_raw[\"כשרים\"]\n",
        "normalized_vec = bazab/kosher\n",
        "alpha = kosher / bazab\n",
        "\n",
        "n_tilda_df = df_2021_ballots.mul(normalized_vec,axis = 0).round()\n",
        "n_tilda_df_2 = n_tilda_df[parties_dict_2021.keys()]\n",
        "n_ij = n_tilda_df_2.sum().div(n_tilda_df_2.sum().sum())"
      ],
      "execution_count": 48,
      "outputs": []
    },
    {
      "cell_type": "code",
      "metadata": {
        "id": "MZJSk8nyrOhR"
      },
      "source": [
        "beta = np.linspace(0.2, 0.8, num=13)"
      ],
      "execution_count": 49,
      "outputs": []
    },
    {
      "cell_type": "code",
      "metadata": {
        "id": "WmLnGh2SrR7H"
      },
      "source": [
        "beta_2 = np.random.permutation(beta)\n",
        "for i in range(df_2021_ballots.shape[0]-1):\n",
        "    beta_rnd = np.random.permutation(beta)\n",
        "    beta_2 = np.vstack((beta_2,beta_rnd))\n"
      ],
      "execution_count": 50,
      "outputs": []
    },
    {
      "cell_type": "code",
      "metadata": {
        "id": "_IE7E0UvrWA6"
      },
      "source": [
        "rand_matrix = pd.DataFrame(beta_2)\n"
      ],
      "execution_count": 51,
      "outputs": []
    },
    {
      "cell_type": "code",
      "metadata": {
        "id": "fXCJih9FrcOA"
      },
      "source": [
        "def simulation(num_simu,df,v):\n",
        "    df_estimators = pd.DataFrame(columns = parties_dict_2021.keys())\n",
        "    for i in range(num_simu):\n",
        "        simu_df = simple_turnout_correction(df,v)\n",
        "        q_hat = simu_df.sum().div(simu_df.sum().sum())\n",
        "        df_estimators = df_estimators.append(q_hat,ignore_index=True)\n",
        "    return df_estimators"
      ],
      "execution_count": 52,
      "outputs": []
    },
    {
      "cell_type": "markdown",
      "metadata": {
        "id": "G63oGw301uUz"
      },
      "source": [
        "# a + b"
      ]
    },
    {
      "cell_type": "code",
      "metadata": {
        "id": "dOumTS5Srgpd"
      },
      "source": [
        "q_j_alpha = simulation(50,df_2021_ballots,alpha)\n",
        "q_j_beta = simulation(50,df_2021_ballots,beta)\n",
        "q_j_beta2 = simulation(50,df_2021_ballots,beta_2)"
      ],
      "execution_count": 54,
      "outputs": []
    },
    {
      "cell_type": "markdown",
      "metadata": {
        "id": "9cvBkBkV2NNu"
      },
      "source": [
        "# c"
      ]
    },
    {
      "cell_type": "code",
      "metadata": {
        "colab": {
          "base_uri": "https://localhost:8080/",
          "height": 143
        },
        "id": "J0BiOt4Urplb",
        "outputId": "69101a42-20d1-44d7-a3e0-81e441d71942"
      },
      "source": [
        "ex = pd.DataFrame([q_j_alpha.mean(axis=0),q_j_beta.mean(axis=0),q_j_beta2.mean(axis=0)], columns=parties_dict_2021.keys(), index=['mean_alpha', 'mean_beta', 'mean_beta_2'])\n",
        "ex.head()"
      ],
      "execution_count": 67,
      "outputs": [
        {
          "output_type": "execute_result",
          "data": {
            "text/html": [
              "<div>\n",
              "<style scoped>\n",
              "    .dataframe tbody tr th:only-of-type {\n",
              "        vertical-align: middle;\n",
              "    }\n",
              "\n",
              "    .dataframe tbody tr th {\n",
              "        vertical-align: top;\n",
              "    }\n",
              "\n",
              "    .dataframe thead th {\n",
              "        text-align: right;\n",
              "    }\n",
              "</style>\n",
              "<table border=\"1\" class=\"dataframe\">\n",
              "  <thead>\n",
              "    <tr style=\"text-align: right;\">\n",
              "      <th></th>\n",
              "      <th>אמת</th>\n",
              "      <th>מרצ</th>\n",
              "      <th>ג</th>\n",
              "      <th>עם</th>\n",
              "      <th>ת</th>\n",
              "      <th>ודעם</th>\n",
              "      <th>ב</th>\n",
              "      <th>ט</th>\n",
              "      <th>ל</th>\n",
              "      <th>מחל</th>\n",
              "      <th>פה</th>\n",
              "      <th>כן</th>\n",
              "      <th>שס</th>\n",
              "    </tr>\n",
              "  </thead>\n",
              "  <tbody>\n",
              "    <tr>\n",
              "      <th>mean_alpha</th>\n",
              "      <td>0.062369</td>\n",
              "      <td>0.047176</td>\n",
              "      <td>0.065890</td>\n",
              "      <td>0.030575</td>\n",
              "      <td>0.048686</td>\n",
              "      <td>0.037907</td>\n",
              "      <td>0.063097</td>\n",
              "      <td>0.053891</td>\n",
              "      <td>0.051815</td>\n",
              "      <td>0.242927</td>\n",
              "      <td>0.148093</td>\n",
              "      <td>0.071193</td>\n",
              "      <td>0.076382</td>\n",
              "    </tr>\n",
              "    <tr>\n",
              "      <th>mean_beta</th>\n",
              "      <td>0.021405</td>\n",
              "      <td>0.020733</td>\n",
              "      <td>0.032123</td>\n",
              "      <td>0.025622</td>\n",
              "      <td>0.034119</td>\n",
              "      <td>0.041367</td>\n",
              "      <td>0.053417</td>\n",
              "      <td>0.049825</td>\n",
              "      <td>0.060483</td>\n",
              "      <td>0.285854</td>\n",
              "      <td>0.177576</td>\n",
              "      <td>0.090871</td>\n",
              "      <td>0.106605</td>\n",
              "    </tr>\n",
              "    <tr>\n",
              "      <th>mean_beta_2</th>\n",
              "      <td>0.059674</td>\n",
              "      <td>0.046594</td>\n",
              "      <td>0.059997</td>\n",
              "      <td>0.040716</td>\n",
              "      <td>0.047583</td>\n",
              "      <td>0.050373</td>\n",
              "      <td>0.059596</td>\n",
              "      <td>0.050158</td>\n",
              "      <td>0.056578</td>\n",
              "      <td>0.245179</td>\n",
              "      <td>0.141395</td>\n",
              "      <td>0.067664</td>\n",
              "      <td>0.074492</td>\n",
              "    </tr>\n",
              "  </tbody>\n",
              "</table>\n",
              "</div>"
            ],
            "text/plain": [
              "                  אמת       מרצ         ג  ...        פה        כן        שס\n",
              "mean_alpha   0.062369  0.047176  0.065890  ...  0.148093  0.071193  0.076382\n",
              "mean_beta    0.021405  0.020733  0.032123  ...  0.177576  0.090871  0.106605\n",
              "mean_beta_2  0.059674  0.046594  0.059997  ...  0.141395  0.067664  0.074492\n",
              "\n",
              "[3 rows x 13 columns]"
            ]
          },
          "metadata": {},
          "execution_count": 67
        }
      ]
    },
    {
      "cell_type": "code",
      "metadata": {
        "colab": {
          "base_uri": "https://localhost:8080/",
          "height": 143
        },
        "id": "RE_B0bEhAUlx",
        "outputId": "861c9235-faa1-4e7e-d3b3-c1c99c85206d"
      },
      "source": [
        "bias_1 = q_j_alpha.mean(axis=0) - n_ij\n",
        "bias_2 = q_j_beta.mean(axis=0) - n_ij\n",
        "bias_3 = q_j_beta2.mean(axis=0) - n_ij\n",
        "bias = pd.DataFrame([bias_1,bias_2,bias_3], columns=parties_dict_2021.keys(), index=['bias1', 'bias2', 'bias3'])\n",
        "bias.head()"
      ],
      "execution_count": 68,
      "outputs": [
        {
          "output_type": "execute_result",
          "data": {
            "text/html": [
              "<div>\n",
              "<style scoped>\n",
              "    .dataframe tbody tr th:only-of-type {\n",
              "        vertical-align: middle;\n",
              "    }\n",
              "\n",
              "    .dataframe tbody tr th {\n",
              "        vertical-align: top;\n",
              "    }\n",
              "\n",
              "    .dataframe thead th {\n",
              "        text-align: right;\n",
              "    }\n",
              "</style>\n",
              "<table border=\"1\" class=\"dataframe\">\n",
              "  <thead>\n",
              "    <tr style=\"text-align: right;\">\n",
              "      <th></th>\n",
              "      <th>אמת</th>\n",
              "      <th>מרצ</th>\n",
              "      <th>ג</th>\n",
              "      <th>עם</th>\n",
              "      <th>ת</th>\n",
              "      <th>ודעם</th>\n",
              "      <th>ב</th>\n",
              "      <th>ט</th>\n",
              "      <th>ל</th>\n",
              "      <th>מחל</th>\n",
              "      <th>פה</th>\n",
              "      <th>כן</th>\n",
              "      <th>שס</th>\n",
              "    </tr>\n",
              "  </thead>\n",
              "  <tbody>\n",
              "    <tr>\n",
              "      <th>bias1</th>\n",
              "      <td>0.006351</td>\n",
              "      <td>0.002125</td>\n",
              "      <td>0.012314</td>\n",
              "      <td>-0.025422</td>\n",
              "      <td>0.002991</td>\n",
              "      <td>-0.032933</td>\n",
              "      <td>0.008076</td>\n",
              "      <td>0.007395</td>\n",
              "      <td>-0.008694</td>\n",
              "      <td>-0.001233</td>\n",
              "      <td>0.015477</td>\n",
              "      <td>0.008452</td>\n",
              "      <td>0.005101</td>\n",
              "    </tr>\n",
              "    <tr>\n",
              "      <th>bias2</th>\n",
              "      <td>-0.034613</td>\n",
              "      <td>-0.024318</td>\n",
              "      <td>-0.021453</td>\n",
              "      <td>-0.030375</td>\n",
              "      <td>-0.011576</td>\n",
              "      <td>-0.029474</td>\n",
              "      <td>-0.001604</td>\n",
              "      <td>0.003329</td>\n",
              "      <td>-0.000026</td>\n",
              "      <td>0.041694</td>\n",
              "      <td>0.044961</td>\n",
              "      <td>0.028131</td>\n",
              "      <td>0.035324</td>\n",
              "    </tr>\n",
              "    <tr>\n",
              "      <th>bias3</th>\n",
              "      <td>0.003656</td>\n",
              "      <td>0.001544</td>\n",
              "      <td>0.006421</td>\n",
              "      <td>-0.015281</td>\n",
              "      <td>0.001888</td>\n",
              "      <td>-0.020467</td>\n",
              "      <td>0.004574</td>\n",
              "      <td>0.003662</td>\n",
              "      <td>-0.003931</td>\n",
              "      <td>0.001019</td>\n",
              "      <td>0.008780</td>\n",
              "      <td>0.004924</td>\n",
              "      <td>0.003211</td>\n",
              "    </tr>\n",
              "  </tbody>\n",
              "</table>\n",
              "</div>"
            ],
            "text/plain": [
              "            אמת       מרצ         ג  ...        פה        כן        שס\n",
              "bias1  0.006351  0.002125  0.012314  ...  0.015477  0.008452  0.005101\n",
              "bias2 -0.034613 -0.024318 -0.021453  ...  0.044961  0.028131  0.035324\n",
              "bias3  0.003656  0.001544  0.006421  ...  0.008780  0.004924  0.003211\n",
              "\n",
              "[3 rows x 13 columns]"
            ]
          },
          "metadata": {},
          "execution_count": 68
        }
      ]
    },
    {
      "cell_type": "code",
      "metadata": {
        "colab": {
          "base_uri": "https://localhost:8080/",
          "height": 195
        },
        "id": "vw0ChEx1rxVY",
        "outputId": "9a995ae0-23d7-4fba-d129-afbd472e8fa7"
      },
      "source": [
        "var = pd.DataFrame([q_j_alpha.var(),q_j_beta.var(),q_j_beta2.var()], columns=parties_dict_2021.keys(), index=['var_1', 'var_2', 'var_3'])\n",
        "var.head()"
      ],
      "execution_count": 69,
      "outputs": [
        {
          "output_type": "execute_result",
          "data": {
            "text/html": [
              "<div>\n",
              "<style scoped>\n",
              "    .dataframe tbody tr th:only-of-type {\n",
              "        vertical-align: middle;\n",
              "    }\n",
              "\n",
              "    .dataframe tbody tr th {\n",
              "        vertical-align: top;\n",
              "    }\n",
              "\n",
              "    .dataframe thead th {\n",
              "        text-align: right;\n",
              "    }\n",
              "</style>\n",
              "<table border=\"1\" class=\"dataframe\">\n",
              "  <thead>\n",
              "    <tr style=\"text-align: right;\">\n",
              "      <th></th>\n",
              "      <th>אמת</th>\n",
              "      <th>מרצ</th>\n",
              "      <th>ג</th>\n",
              "      <th>עם</th>\n",
              "      <th>ת</th>\n",
              "      <th>ודעם</th>\n",
              "      <th>ב</th>\n",
              "      <th>ט</th>\n",
              "      <th>ל</th>\n",
              "      <th>מחל</th>\n",
              "      <th>פה</th>\n",
              "      <th>כן</th>\n",
              "      <th>שס</th>\n",
              "    </tr>\n",
              "  </thead>\n",
              "  <tbody>\n",
              "    <tr>\n",
              "      <th>var_1</th>\n",
              "      <td>5.243777e-09</td>\n",
              "      <td>7.734540e-09</td>\n",
              "      <td>6.166926e-09</td>\n",
              "      <td>4.852842e-09</td>\n",
              "      <td>7.563873e-09</td>\n",
              "      <td>9.782259e-09</td>\n",
              "      <td>9.314710e-09</td>\n",
              "      <td>6.181773e-09</td>\n",
              "      <td>7.491025e-09</td>\n",
              "      <td>3.472015e-08</td>\n",
              "      <td>2.013024e-08</td>\n",
              "      <td>8.989530e-09</td>\n",
              "      <td>1.125097e-08</td>\n",
              "    </tr>\n",
              "    <tr>\n",
              "      <th>var_2</th>\n",
              "      <td>6.830007e-09</td>\n",
              "      <td>4.593785e-09</td>\n",
              "      <td>1.026710e-08</td>\n",
              "      <td>6.868636e-09</td>\n",
              "      <td>8.785527e-09</td>\n",
              "      <td>8.968672e-09</td>\n",
              "      <td>1.148381e-08</td>\n",
              "      <td>7.563398e-09</td>\n",
              "      <td>1.171822e-08</td>\n",
              "      <td>3.665963e-08</td>\n",
              "      <td>1.893854e-08</td>\n",
              "      <td>1.143088e-08</td>\n",
              "      <td>7.501683e-09</td>\n",
              "    </tr>\n",
              "    <tr>\n",
              "      <th>var_3</th>\n",
              "      <td>1.147368e-08</td>\n",
              "      <td>1.049224e-08</td>\n",
              "      <td>1.394047e-08</td>\n",
              "      <td>7.869486e-09</td>\n",
              "      <td>1.040892e-08</td>\n",
              "      <td>8.993403e-09</td>\n",
              "      <td>1.606923e-08</td>\n",
              "      <td>7.744637e-09</td>\n",
              "      <td>1.144621e-08</td>\n",
              "      <td>4.088314e-08</td>\n",
              "      <td>2.919001e-08</td>\n",
              "      <td>1.225828e-08</td>\n",
              "      <td>1.654934e-08</td>\n",
              "    </tr>\n",
              "  </tbody>\n",
              "</table>\n",
              "</div>"
            ],
            "text/plain": [
              "                אמת           מרצ  ...            כן            שס\n",
              "var_1  5.243777e-09  7.734540e-09  ...  8.989530e-09  1.125097e-08\n",
              "var_2  6.830007e-09  4.593785e-09  ...  1.143088e-08  7.501683e-09\n",
              "var_3  1.147368e-08  1.049224e-08  ...  1.225828e-08  1.654934e-08\n",
              "\n",
              "[3 rows x 13 columns]"
            ]
          },
          "metadata": {},
          "execution_count": 69
        }
      ]
    },
    {
      "cell_type": "code",
      "metadata": {
        "colab": {
          "base_uri": "https://localhost:8080/",
          "height": 143
        },
        "id": "kyDoszPTAQtI",
        "outputId": "fc68cfe8-ccc2-45a2-f9a0-4102e9acdeb2"
      },
      "source": [
        "mse_1 = q_j_alpha.var() + bias_1**2\n",
        "mse_2 = q_j_beta.var() + bias_2**2\n",
        "mse_3 = q_j_beta2.var() + bias_3**2\n",
        "mse = pd.DataFrame([mse_1,mse_2,mse_3], columns=parties_dict_2021.keys(), index=['mse_1', 'mse_2', 'mse_3'])\n",
        "mse.head()"
      ],
      "execution_count": 70,
      "outputs": [
        {
          "output_type": "execute_result",
          "data": {
            "text/html": [
              "<div>\n",
              "<style scoped>\n",
              "    .dataframe tbody tr th:only-of-type {\n",
              "        vertical-align: middle;\n",
              "    }\n",
              "\n",
              "    .dataframe tbody tr th {\n",
              "        vertical-align: top;\n",
              "    }\n",
              "\n",
              "    .dataframe thead th {\n",
              "        text-align: right;\n",
              "    }\n",
              "</style>\n",
              "<table border=\"1\" class=\"dataframe\">\n",
              "  <thead>\n",
              "    <tr style=\"text-align: right;\">\n",
              "      <th></th>\n",
              "      <th>אמת</th>\n",
              "      <th>מרצ</th>\n",
              "      <th>ג</th>\n",
              "      <th>עם</th>\n",
              "      <th>ת</th>\n",
              "      <th>ודעם</th>\n",
              "      <th>ב</th>\n",
              "      <th>ט</th>\n",
              "      <th>ל</th>\n",
              "      <th>מחל</th>\n",
              "      <th>פה</th>\n",
              "      <th>כן</th>\n",
              "      <th>שס</th>\n",
              "    </tr>\n",
              "  </thead>\n",
              "  <tbody>\n",
              "    <tr>\n",
              "      <th>mse_1</th>\n",
              "      <td>0.000040</td>\n",
              "      <td>0.000005</td>\n",
              "      <td>0.000152</td>\n",
              "      <td>0.000646</td>\n",
              "      <td>0.000009</td>\n",
              "      <td>0.001085</td>\n",
              "      <td>0.000065</td>\n",
              "      <td>0.000055</td>\n",
              "      <td>7.559823e-05</td>\n",
              "      <td>0.000002</td>\n",
              "      <td>0.000240</td>\n",
              "      <td>0.000071</td>\n",
              "      <td>0.000026</td>\n",
              "    </tr>\n",
              "    <tr>\n",
              "      <th>mse_2</th>\n",
              "      <td>0.001198</td>\n",
              "      <td>0.000591</td>\n",
              "      <td>0.000460</td>\n",
              "      <td>0.000923</td>\n",
              "      <td>0.000134</td>\n",
              "      <td>0.000869</td>\n",
              "      <td>0.000003</td>\n",
              "      <td>0.000011</td>\n",
              "      <td>1.238791e-08</td>\n",
              "      <td>0.001738</td>\n",
              "      <td>0.002021</td>\n",
              "      <td>0.000791</td>\n",
              "      <td>0.001248</td>\n",
              "    </tr>\n",
              "    <tr>\n",
              "      <th>mse_3</th>\n",
              "      <td>0.000013</td>\n",
              "      <td>0.000002</td>\n",
              "      <td>0.000041</td>\n",
              "      <td>0.000234</td>\n",
              "      <td>0.000004</td>\n",
              "      <td>0.000419</td>\n",
              "      <td>0.000021</td>\n",
              "      <td>0.000013</td>\n",
              "      <td>1.546512e-05</td>\n",
              "      <td>0.000001</td>\n",
              "      <td>0.000077</td>\n",
              "      <td>0.000024</td>\n",
              "      <td>0.000010</td>\n",
              "    </tr>\n",
              "  </tbody>\n",
              "</table>\n",
              "</div>"
            ],
            "text/plain": [
              "            אמת       מרצ         ג  ...        פה        כן        שס\n",
              "mse_1  0.000040  0.000005  0.000152  ...  0.000240  0.000071  0.000026\n",
              "mse_2  0.001198  0.000591  0.000460  ...  0.002021  0.000791  0.001248\n",
              "mse_3  0.000013  0.000002  0.000041  ...  0.000077  0.000024  0.000010\n",
              "\n",
              "[3 rows x 13 columns]"
            ]
          },
          "metadata": {},
          "execution_count": 70
        }
      ]
    },
    {
      "cell_type": "markdown",
      "metadata": {
        "id": "7f9BOd52M4w9"
      },
      "source": [
        "# d"
      ]
    },
    {
      "cell_type": "code",
      "metadata": {
        "colab": {
          "base_uri": "https://localhost:8080/",
          "height": 886
        },
        "id": "RQkIZt0DM6XG",
        "outputId": "9ce2b254-67f0-4311-e760-5aea9d78b56e"
      },
      "source": [
        "def bar_plot(qj, qj_i, p_j, error_qj, error_pj):\n",
        "    width = 0.2\n",
        "    n = 13\n",
        "    rev_names = [name[::-1] for name in list(n_tilda_df_2)]\n",
        "    x_pos = np.arange(len(rev_names))\n",
        "    fig, ax = plt.subplots()\n",
        "\n",
        "    qj_bar = ax.bar(np.arange(n), list(qj), width, color='b')\n",
        "    qj_i_bar = ax.bar(np.arange(n)+width, qj_i, width, color='r',yerr = error_qj, align='center', capsize=10,ecolor='black')\n",
        "    p_j_bar = ax.bar(np.arange(n)+2*width, p_j, width, color='g', align='center',capsize=10,ecolor='black')\n",
        "\n",
        "    ax.set_ylabel('Votes percent')\n",
        "    ax.set_xlabel('Parties Names')\n",
        "    ax.set_title('Simulations bar plot + error bars')\n",
        "    ax.set_xticks(np.arange(n))\n",
        "    ax.set_xticklabels(rev_names)\n",
        "    ax.legend((qj_bar, qj_i_bar, p_j_bar), ('qj', 'q_j_i', 'p_j'))\n",
        "    ax.yaxis.grid(True)\n",
        "    plt.show()\n",
        "\n",
        "\n",
        "    return fig, ax\n",
        "\n",
        "bar_plot(n_ij, ex_1, q_j_alpha.mean(), ex_1.std(), q_j_alpha.std())\n",
        "bar_plot(n_ij, ex_2, q_j_beta.mean(), ex_2.std(), q_j_beta.std())\n",
        "bar_plot(n_ij, ex_3, q_j_beta2.mean(), ex_3.std(), q_j_beta2.std())"
      ],
      "execution_count": 97,
      "outputs": [
        {
          "output_type": "display_data",
          "data": {
            "image/png": "[encoded data removed]",
            "text/plain": [
              "<Figure size 432x288 with 1 Axes>"
            ]
          },
          "metadata": {
            "needs_background": "light"
          }
        },
        {
          "output_type": "display_data",
          "data": {
            "image/png": "[encoded data removed]",
            "text/plain": [
              "<Figure size 432x288 with 1 Axes>"
            ]
          },
          "metadata": {
            "needs_background": "light"
          }
        },
        {
          "output_type": "display_data",
          "data": {
            "image/png": "[encoded data removed]",
            "text/plain": [
              "<Figure size 432x288 with 1 Axes>"
            ]
          },
          "metadata": {
            "needs_background": "light"
          }
        },
        {
          "output_type": "execute_result",
          "data": {
            "text/plain": [
              "(<Figure size 432x288 with 1 Axes>,\n",
              " <matplotlib.axes._subplots.AxesSubplot at 0x7f75fb0f1f50>)"
            ]
          },
          "metadata": {},
          "execution_count": 97
        }
      ]
    }
  ]
}