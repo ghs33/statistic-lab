{
  "nbformat": 4,
  "nbformat_minor": 0,
  "metadata": {
    "colab": {
      "name": "lab_8ipynb",
      "provenance": [],
      "collapsed_sections": []
    },
    "kernelspec": {
      "display_name": "Python 3 (ipykernel)",
      "language": "python",
      "name": "python3"
    },
    "language_info": {
      "codemirror_mode": {
        "name": "ipython",
        "version": 3
      },
      "file_extension": ".py",
      "mimetype": "text/x-python",
      "name": "python",
      "nbconvert_exporter": "python",
      "pygments_lexer": "ipython3",
      "version": "3.9.6"
    }
  },
  "cells": [
    {
      "cell_type": "markdown",
      "metadata": {
        "id": "lyQ45Phps6Z6"
      },
      "source": [
        "# **Israel Elections Data Analysis**\n",
        "\n",
        "# **Gil Shiloh, Elky Shandor and Dean Tesler**\n",
        "\n",
        "\n",
        "An example notebook showing how to read and display the Israel 2021 elections results. This is the notebook for the first week."
      ]
    },
    {
      "cell_type": "code",
      "metadata": {
        "colab": {
          "base_uri": "https://localhost:8080/"
        },
        "id": "eRKSr5EstAUm",
        "outputId": "042bacb4-2383-4c70-8367-d22213b05985"
      },
      "source": [
        "# Add a check if we run in google colab or locally in jupyter notebook\n",
        "run_in_colab = False\n",
        "if 'google.colab' in str(get_ipython()):\n",
        "    run_in_colab = True\n",
        "    print('Running on CoLab')\n",
        "else:\n",
        "    print('Running locally on Jupyter')\n",
        "\n"
      ],
      "execution_count": 40,
      "outputs": [
        {
          "output_type": "stream",
          "name": "stdout",
          "text": [
            "Running on CoLab\n"
          ]
        }
      ]
    },
    {
      "cell_type": "markdown",
      "source": [
        ""
      ],
      "metadata": {
        "id": "UUY2eiQdTPZE"
      }
    },
    {
      "cell_type": "code",
      "metadata": {
        "id": "FTNiH27ZzL1F"
      },
      "source": [
        "# First install tha needed packages using conda in the current Jupyter kernel\n",
        "# Run once - should take a long time!\n",
        "import sys\n",
        "#if not(run_in_colab):\n",
        "#  !conda install --yes --prefix {sys.prefix} numpy\n",
        "#  !conda install --yes --prefix {sys.prefix} pandas\n",
        "#  !conda install --yes --prefix {sys.prefix} matplotlib\n",
        "#  !conda install --yes --prefix {sys.prefix} statsmodels  # statistical modelling \n",
        "#  !conda install --yes --prefix {sys.prefix} xlrd  # read excel \n",
        "\n",
        "\n",
        "\n",
        "# Alternatively, if your python wasn't installed using anaconda, we can use pip install: \n",
        "# !{sys.executable} -m pip install numpy\n",
        "# !{sys.executable} -m pip install pandas\n",
        "# !{sys.executable} -m pip install matplotlib\n"
      ],
      "execution_count": 41,
      "outputs": []
    },
    {
      "cell_type": "code",
      "metadata": {
        "id": "iC0NlMvHzL1L"
      },
      "source": [
        "# Import modules \n",
        "import numpy as np  # a module for working with numerical array \n",
        "import pandas as pd  # a module for working with data-frames\n",
        "import statsmodels.api as sm  # a module for statistical modelling (e.g. regression analysis)"
      ],
      "execution_count": 42,
      "outputs": []
    },
    {
      "cell_type": "markdown",
      "metadata": {
        "id": "pGTS_zCRZGfV"
      },
      "source": [
        "First, we need to mount our local drive to the colab network"
      ]
    },
    {
      "cell_type": "code",
      "metadata": {
        "id": "RWSJpsyKqHjH",
        "colab": {
          "base_uri": "https://localhost:8080/"
        },
        "outputId": "808afad8-91ae-4ff4-c91c-c460a3f80684"
      },
      "source": [
        "# Mount drive in google colab\n",
        "if run_in_colab:\n",
        "    from google.colab import drive\n",
        "    drive.mount('/content/drive')\n",
        "else:  # Set local path \n",
        "    data_path = \"/Users/elkysandor/Desktop/huji yr3/static lab/\"  \n"
      ],
      "execution_count": 43,
      "outputs": [
        {
          "output_type": "stream",
          "name": "stdout",
          "text": [
            "Drive already mounted at /content/drive; to attempt to forcibly remount, call drive.mount(\"/content/drive\", force_remount=True).\n"
          ]
        }
      ]
    },
    {
      "cell_type": "code",
      "metadata": {
        "id": "xaG-KYCw8XZz",
        "colab": {
          "resources": {
            "http://localhost:8080/nbextensions/google.colab/files.js": {
              "data": "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",
              "ok": true,
              "headers": [
                [
                  "content-type",
                  "application/javascript"
                ]
              ],
              "status": 200,
              "status_text": ""
            }
          },
          "base_uri": "https://localhost:8080/",
          "height": 212
        },
        "outputId": "00814d1c-2171-4541-8c9c-510cd14936a9"
      },
      "source": [
        "# Loading elections 2021 elections data:\n",
        "if run_in_colab:\n",
        "    from google.colab import files\n",
        "    uploaded = files.upload()"
      ],
      "execution_count": 44,
      "outputs": [
        {
          "output_type": "display_data",
          "data": {
            "text/html": [
              "\n",
              "     <input type=\"file\" id=\"files-0aa945f1-a98f-4c72-8ade-b4bc814d417b\" name=\"files[]\" multiple disabled\n",
              "        style=\"border:none\" />\n",
              "     <output id=\"result-0aa945f1-a98f-4c72-8ade-b4bc814d417b\">\n",
              "      Upload widget is only available when the cell has been executed in the\n",
              "      current browser session. Please rerun this cell to enable.\n",
              "      </output>\n",
              "      <script src=\"/nbextensions/google.colab/files.js\"></script> "
            ],
            "text/plain": [
              "<IPython.core.display.HTML object>"
            ]
          },
          "metadata": {}
        },
        {
          "output_type": "stream",
          "name": "stdout",
          "text": [
            "Saving election_2020.csv to election_2020 (1).csv\n",
            "Saving eshkol_hevrati_calcali.csv to eshkol_hevrati_calcali (1).csv\n",
            "Saving votes per ballot 2020.csv to votes per ballot 2020 (1).csv\n",
            "Saving votes per ballot 2021.csv to votes per ballot 2021 (1).csv\n",
            "Saving votes per city 2021.csv to votes per city 2021 (1).csv\n"
          ]
        }
      ]
    },
    {
      "cell_type": "code",
      "metadata": {
        "id": "QxK5YlBH1geD"
      },
      "source": [
        "import io"
      ],
      "execution_count": 45,
      "outputs": []
    },
    {
      "cell_type": "code",
      "metadata": {
        "id": "870LcQWgv2OB"
      },
      "source": [
        "from matplotlib import pyplot as plt"
      ],
      "execution_count": 46,
      "outputs": []
    },
    {
      "cell_type": "code",
      "metadata": {
        "id": "gvcZSFcX_w49"
      },
      "source": [
        "# Compute votes share only for parties above a certain threshold \n",
        "def parties_votes_percents(df, thresh):\n",
        "    par = df.sum().div(df.sum().sum())\n",
        "    return par[par > thresh]"
      ],
      "execution_count": 47,
      "outputs": []
    },
    {
      "cell_type": "markdown",
      "metadata": {
        "id": "mj2x1vMkHPVp"
      },
      "source": [
        "Create a dictionary mapping parties names to voting letters"
      ]
    },
    {
      "cell_type": "code",
      "metadata": {
        "id": "dxBOht75HPVp"
      },
      "source": [
        "parties_dict_2021 ={'אמת' : \"עבודה\", 'מרצ' : \"מרצ\",  'ג' : \"יהדות התורה\", 'עם'  : \"רעם\",  'ת'  : \"תקוה חדשה\", 'ודעם'  : \"הרשימה המשותפת\", 'ב'  : \"ימינה\", 'ט'  : \"הציונות הדתית\",\n",
        " 'ל'  : \"ישראל ביתנו\", 'מחל'  : \"הליכוד\",  'פה'  : \"יש עתיד\", 'כן'  : \"כחול לבן\", 'שס'  : \"שס\"}\n"
      ],
      "execution_count": 48,
      "outputs": []
    },
    {
      "cell_type": "markdown",
      "metadata": {
        "id": "qdK2WrN5HPVq"
      },
      "source": [
        "Read the election results by ballot (not city)"
      ]
    },
    {
      "cell_type": "code",
      "metadata": {
        "id": "3o0FXqu_HPVq"
      },
      "source": [
        "if   run_in_colab:\n",
        "    df_2021_ballots_raw = pd.read_csv(io.BytesIO(uploaded['votes per ballot 2021.csv']),  encoding = 'iso-8859-8', index_col='שם ישוב')\n",
        "    df_2020_ballots_raw = pd.read_csv(io.BytesIO(uploaded['votes per ballot 2020.csv']),  encoding = 'iso-8859-8', index_col='שם ישוב')\n",
        "else:\n",
        "  df_2021_ballots_raw = pd.read_csv(data_path + 'votes per ballot 2021.csv',  encoding = 'iso-8859-8', index_col='שם ישוב')  # need to read locally"
      ],
      "execution_count": 49,
      "outputs": []
    },
    {
      "cell_type": "code",
      "metadata": {
        "id": "x9cWw2gjHPVq"
      },
      "source": [
        "df_2021_ballots = df_2021_ballots_raw.drop('סמל ועדה', axis=1) # new column added in Sep 2019\n",
        "df_2021_ballots = df_2021_ballots[df_2021_ballots.columns[8:-1]] # removing \"metadata\" columns\n",
        "df_2021_ballots_raw = df_2021_ballots_raw.drop(index = \"מעטפות חיצוניות\")\n",
        "df_2021_ind = df_2021_ballots_raw.set_index([\"קלפי\"], append=True)\n",
        "df_2021_ballots= df_2021_ballots.drop(index = \"מעטפות חיצוניות\")\n",
        "df_2021_ballots= df_2021_ballots.drop(columns=[\"כשרים\",\"רק\"])\n",
        "#over_trsh_21 = df_2021[parties_dict_2021.keys()]\n",
        "#over_trsh_21= over_trsh_21.drop(\"מעטפות חיצוניות\")"
      ],
      "execution_count": 50,
      "outputs": []
    },
    {
      "cell_type": "markdown",
      "source": [
        "# Solution: Lab-8"
      ],
      "metadata": {
        "id": "ziwxcNQtTSbU"
      }
    },
    {
      "cell_type": "markdown",
      "source": [
        "1"
      ],
      "metadata": {
        "id": "qoLdf-ojTYXm"
      }
    },
    {
      "cell_type": "code",
      "source": [
        "over_trash_bal_21 = df_2021_ballots[parties_dict_2021.keys()]\n",
        "random_c = np.random.randint(0,(over_trash_bal_21.shape[0]-1),(100,7))"
      ],
      "metadata": {
        "id": "ggEXxbF_TXV-"
      },
      "execution_count": 51,
      "outputs": []
    },
    {
      "cell_type": "code",
      "source": [
        "prob_bal = pd.DataFrame()\n",
        "\n",
        "original = parties_votes_percents(df_2021_ballots, 0.035)\n",
        "for i in random_c:\n",
        "  random_bal = over_trash_bal_21.iloc[i]\n",
        "  p_hat = random_bal.sum().div(random_bal.sum().sum(),axis=0)\n",
        "  prob_bal = prob_bal.append(p_hat, ignore_index=True)\n",
        "\n",
        "prob_bal_mean = prob_bal.mean(axis=0)\n",
        "bias = prob_bal_mean - original\n",
        "prob_bal_var = prob_bal.var()\n",
        "prob_bal_mse = prob_bal_var + bias.pow(2)\n",
        "final_table = pd.concat((prob_bal_mean, bias,prob_bal_var,prob_bal_mse),axis=1)\n",
        "final_table.columns = [\"Mean\" , \"bias\", \"var\", \"mse\"]\n",
        "final_table.T"
      ],
      "metadata": {
        "id": "_PoUJyq_ZK2N",
        "colab": {
          "base_uri": "https://localhost:8080/",
          "height": 175
        },
        "outputId": "890c93aa-11a3-43c4-a788-88a43ede30d7"
      },
      "execution_count": 52,
      "outputs": [
        {
          "output_type": "execute_result",
          "data": {
            "text/html": [
              "\n",
              "  <div id=\"df-9d7da82f-5951-4b6c-b0d5-eee75390fefc\">\n",
              "    <div class=\"colab-df-container\">\n",
              "      <div>\n",
              "<style scoped>\n",
              "    .dataframe tbody tr th:only-of-type {\n",
              "        vertical-align: middle;\n",
              "    }\n",
              "\n",
              "    .dataframe tbody tr th {\n",
              "        vertical-align: top;\n",
              "    }\n",
              "\n",
              "    .dataframe thead th {\n",
              "        text-align: right;\n",
              "    }\n",
              "</style>\n",
              "<table border=\"1\" class=\"dataframe\">\n",
              "  <thead>\n",
              "    <tr style=\"text-align: right;\">\n",
              "      <th></th>\n",
              "      <th>אמת</th>\n",
              "      <th>ב</th>\n",
              "      <th>ג</th>\n",
              "      <th>ודעם</th>\n",
              "      <th>ט</th>\n",
              "      <th>כן</th>\n",
              "      <th>ל</th>\n",
              "      <th>מחל</th>\n",
              "      <th>מרצ</th>\n",
              "      <th>עם</th>\n",
              "      <th>פה</th>\n",
              "      <th>שס</th>\n",
              "      <th>ת</th>\n",
              "    </tr>\n",
              "  </thead>\n",
              "  <tbody>\n",
              "    <tr>\n",
              "      <th>Mean</th>\n",
              "      <td>0.061614</td>\n",
              "      <td>0.060349</td>\n",
              "      <td>0.054453</td>\n",
              "      <td>0.053091</td>\n",
              "      <td>0.046887</td>\n",
              "      <td>0.068304</td>\n",
              "      <td>0.053821</td>\n",
              "      <td>0.246088</td>\n",
              "      <td>0.046106</td>\n",
              "      <td>0.051535</td>\n",
              "      <td>0.139768</td>\n",
              "      <td>0.072025</td>\n",
              "      <td>0.045960</td>\n",
              "    </tr>\n",
              "    <tr>\n",
              "      <th>bias</th>\n",
              "      <td>0.002819</td>\n",
              "      <td>0.001644</td>\n",
              "      <td>-0.004373</td>\n",
              "      <td>0.002596</td>\n",
              "      <td>-0.002885</td>\n",
              "      <td>0.001732</td>\n",
              "      <td>-0.001561</td>\n",
              "      <td>0.004425</td>\n",
              "      <td>0.000520</td>\n",
              "      <td>0.011309</td>\n",
              "      <td>0.000337</td>\n",
              "      <td>-0.001198</td>\n",
              "      <td>-0.000947</td>\n",
              "    </tr>\n",
              "    <tr>\n",
              "      <th>var</th>\n",
              "      <td>0.000789</td>\n",
              "      <td>0.000413</td>\n",
              "      <td>0.004150</td>\n",
              "      <td>0.003040</td>\n",
              "      <td>0.000570</td>\n",
              "      <td>0.000584</td>\n",
              "      <td>0.000767</td>\n",
              "      <td>0.004036</td>\n",
              "      <td>0.000567</td>\n",
              "      <td>0.003565</td>\n",
              "      <td>0.002180</td>\n",
              "      <td>0.001968</td>\n",
              "      <td>0.000110</td>\n",
              "    </tr>\n",
              "    <tr>\n",
              "      <th>mse</th>\n",
              "      <td>0.000797</td>\n",
              "      <td>0.000415</td>\n",
              "      <td>0.004169</td>\n",
              "      <td>0.003047</td>\n",
              "      <td>0.000579</td>\n",
              "      <td>0.000587</td>\n",
              "      <td>0.000770</td>\n",
              "      <td>0.004055</td>\n",
              "      <td>0.000568</td>\n",
              "      <td>0.003693</td>\n",
              "      <td>0.002180</td>\n",
              "      <td>0.001969</td>\n",
              "      <td>0.000111</td>\n",
              "    </tr>\n",
              "  </tbody>\n",
              "</table>\n",
              "</div>\n",
              "      <button class=\"colab-df-convert\" onclick=\"convertToInteractive('df-9d7da82f-5951-4b6c-b0d5-eee75390fefc')\"\n",
              "              title=\"Convert this dataframe to an interactive table.\"\n",
              "              style=\"display:none;\">\n",
              "        \n",
              "  <svg xmlns=\"http://www.w3.org/2000/svg\" height=\"24px\"viewBox=\"0 0 24 24\"\n",
              "       width=\"24px\">\n",
              "    <path d=\"M0 0h24v24H0V0z\" fill=\"none\"/>\n",
              "    <path d=\"M18.56 5.44l.94 2.06.94-2.06 2.06-.94-2.06-.94-.94-2.06-.94 2.06-2.06.94zm-11 1L8.5 8.5l.94-2.06 2.06-.94-2.06-.94L8.5 2.5l-.94 2.06-2.06.94zm10 10l.94 2.06.94-2.06 2.06-.94-2.06-.94-.94-2.06-.94 2.06-2.06.94z\"/><path d=\"M17.41 7.96l-1.37-1.37c-.4-.4-.92-.59-1.43-.59-.52 0-1.04.2-1.43.59L10.3 9.45l-7.72 7.72c-.78.78-.78 2.05 0 2.83L4 21.41c.39.39.9.59 1.41.59.51 0 1.02-.2 1.41-.59l7.78-7.78 2.81-2.81c.8-.78.8-2.07 0-2.86zM5.41 20L4 18.59l7.72-7.72 1.47 1.35L5.41 20z\"/>\n",
              "  </svg>\n",
              "      </button>\n",
              "      \n",
              "  <style>\n",
              "    .colab-df-container {\n",
              "      display:flex;\n",
              "      flex-wrap:wrap;\n",
              "      gap: 12px;\n",
              "    }\n",
              "\n",
              "    .colab-df-convert {\n",
              "      background-color: #E8F0FE;\n",
              "      border: none;\n",
              "      border-radius: 50%;\n",
              "      cursor: pointer;\n",
              "      display: none;\n",
              "      fill: #1967D2;\n",
              "      height: 32px;\n",
              "      padding: 0 0 0 0;\n",
              "      width: 32px;\n",
              "    }\n",
              "\n",
              "    .colab-df-convert:hover {\n",
              "      background-color: #E2EBFA;\n",
              "      box-shadow: 0px 1px 2px rgba(60, 64, 67, 0.3), 0px 1px 3px 1px rgba(60, 64, 67, 0.15);\n",
              "      fill: #174EA6;\n",
              "    }\n",
              "\n",
              "    [theme=dark] .colab-df-convert {\n",
              "      background-color: #3B4455;\n",
              "      fill: #D2E3FC;\n",
              "    }\n",
              "\n",
              "    [theme=dark] .colab-df-convert:hover {\n",
              "      background-color: #434B5C;\n",
              "      box-shadow: 0px 1px 3px 1px rgba(0, 0, 0, 0.15);\n",
              "      filter: drop-shadow(0px 1px 2px rgba(0, 0, 0, 0.3));\n",
              "      fill: #FFFFFF;\n",
              "    }\n",
              "  </style>\n",
              "\n",
              "      <script>\n",
              "        const buttonEl =\n",
              "          document.querySelector('#df-9d7da82f-5951-4b6c-b0d5-eee75390fefc button.colab-df-convert');\n",
              "        buttonEl.style.display =\n",
              "          google.colab.kernel.accessAllowed ? 'block' : 'none';\n",
              "\n",
              "        async function convertToInteractive(key) {\n",
              "          const element = document.querySelector('#df-9d7da82f-5951-4b6c-b0d5-eee75390fefc');\n",
              "          const dataTable =\n",
              "            await google.colab.kernel.invokeFunction('convertToInteractive',\n",
              "                                                     [key], {});\n",
              "          if (!dataTable) return;\n",
              "\n",
              "          const docLinkHtml = 'Like what you see? Visit the ' +\n",
              "            '<a target=\"_blank\" href=https://colab.research.google.com/notebooks/data_table.ipynb>data table notebook</a>'\n",
              "            + ' to learn more about interactive tables.';\n",
              "          element.innerHTML = '';\n",
              "          dataTable['output_type'] = 'display_data';\n",
              "          await google.colab.output.renderOutput(dataTable, element);\n",
              "          const docLink = document.createElement('div');\n",
              "          docLink.innerHTML = docLinkHtml;\n",
              "          element.appendChild(docLink);\n",
              "        }\n",
              "      </script>\n",
              "    </div>\n",
              "  </div>\n",
              "  "
            ],
            "text/plain": [
              "           אמת         ב         ג  ...        פה        שס         ת\n",
              "Mean  0.061614  0.060349  0.054453  ...  0.139768  0.072025  0.045960\n",
              "bias  0.002819  0.001644 -0.004373  ...  0.000337 -0.001198 -0.000947\n",
              "var   0.000789  0.000413  0.004150  ...  0.002180  0.001968  0.000110\n",
              "mse   0.000797  0.000415  0.004169  ...  0.002180  0.001969  0.000111\n",
              "\n",
              "[4 rows x 13 columns]"
            ]
          },
          "metadata": {},
          "execution_count": 52
        }
      ]
    },
    {
      "cell_type": "markdown",
      "source": [
        "The bias is close to 0 as expected by the thoery."
      ],
      "metadata": {
        "id": "5atD9LKSLzXa"
      }
    },
    {
      "cell_type": "code",
      "source": [
        "def bar_plot(df,compare_df = None):\n",
        "    width = 0.3\n",
        "    n = 13\n",
        "    rev_names = [parties_dict_2021[name][::-1] for name in list(df.columns)]\n",
        "    x_pos = np.arange(len(rev_names))\n",
        "    fig, ax = plt.subplots()\n",
        "\n",
        "    mean_bar = ax.bar(np.arange(n),df.mean(axis=0),width, color='pink',yerr = df.std(), align='center',capsize=10,ecolor='black',error_kw=dict(lw=1, capsize=3, capthick=1))\n",
        "    if compare_df is not None:\n",
        "      compare_bar = ax.bar(np.arange(n)+width,compare_df.mean(axis=0),width, color='yellow',yerr = compare_df.std(), align='center',capsize=10,ecolor='black',error_kw=dict(lw=1, capsize=3, capthick=1))\n",
        "    ax.set_ylabel('Votes percent')\n",
        "    ax.set_xlabel('Parties Names')\n",
        "    ax.set_title('probabilities estimators + error bars')\n",
        "    ax.set_xticks(np.arange(n))\n",
        "    ax.set_xticklabels(rev_names,rotation=90)\n",
        "    ax.yaxis.grid(True)\n",
        "    plt.show()\n",
        "\n",
        "\n",
        "    return fig, ax"
      ],
      "metadata": {
        "id": "5EZguzcqhLTK"
      },
      "execution_count": 53,
      "outputs": []
    },
    {
      "cell_type": "code",
      "source": [
        "bar_plot(prob_bal)"
      ],
      "metadata": {
        "id": "0h8YQzsikQia",
        "colab": {
          "base_uri": "https://localhost:8080/",
          "height": 401
        },
        "outputId": "5cb48a6a-bc23-477d-e762-da9b1b27cffc"
      },
      "execution_count": 54,
      "outputs": [
        {
          "output_type": "display_data",
          "data": {
            "image/png": "[encoded data removed]",
            "text/plain": [
              "<Figure size 432x288 with 1 Axes>"
            ]
          },
          "metadata": {
            "needs_background": "light"
          }
        },
        {
          "output_type": "execute_result",
          "data": {
            "text/plain": [
              "(<Figure size 432x288 with 1 Axes>,\n",
              " <matplotlib.axes._subplots.AxesSubplot at 0x7fb81b5e2dd0>)"
            ]
          },
          "metadata": {},
          "execution_count": 54
        }
      ]
    },
    {
      "cell_type": "code",
      "source": [
        "prob_bal_var.loc[[\"אמת\",\"מרצ\",\"ג\",\"ת\",\"ודעם\",\"ב\",\"ט\",\"ל\"]]"
      ],
      "metadata": {
        "id": "o3Q68v4rkgrB",
        "colab": {
          "base_uri": "https://localhost:8080/"
        },
        "outputId": "3cd378a9-67ff-48d4-efe0-ecc00f272286"
      },
      "execution_count": 55,
      "outputs": [
        {
          "output_type": "execute_result",
          "data": {
            "text/plain": [
              "אמת     0.000789\n",
              "מרצ     0.000567\n",
              "ג       0.004150\n",
              "ת       0.000110\n",
              "ודעם    0.003040\n",
              "ב       0.000413\n",
              "ט       0.000570\n",
              "ל       0.000767\n",
              "dtype: float64"
            ]
          },
          "metadata": {},
          "execution_count": 55
        }
      ]
    },
    {
      "cell_type": "markdown",
      "source": [
        "We can see that the variance for the parties that got 6 and 7 votes are very similiar."
      ],
      "metadata": {
        "id": "l7ynuq0eIyNG"
      }
    },
    {
      "cell_type": "markdown",
      "source": [
        "# 2"
      ],
      "metadata": {
        "id": "3u8AbCunoLxn"
      }
    },
    {
      "cell_type": "code",
      "source": [
        "if run_in_colab:\n",
        "  df_2021_eshkol = pd.read_csv(io.BytesIO(uploaded['eshkol_hevrati_calcali.csv']),  encoding = 'iso-8859-8') "
      ],
      "metadata": {
        "id": "TR9rB-usoMmR"
      },
      "execution_count": 56,
      "outputs": []
    },
    {
      "cell_type": "code",
      "source": [
        "check_merg = df_2021_ballots_raw.merge(df_2021_eshkol, how = 'inner',right_on = \"set_code\", left_on = \"סמל ישוב\")\n",
        "names_idx = df_2021_ballots_raw.index[df_2021_ballots_raw[\"סמל ישוב\"].isin(df_2021_eshkol[\"set_code\"])]\n",
        "final_df = check_merg.set_axis(names_idx)\n",
        "big_eshkolot = check_merg.groupby(\"eco_level\")[\"בזב\"].sum().nlargest(7).index\n",
        "big_eshkolot_final = final_df.loc[final_df[\"eco_level\"].isin(big_eshkolot)]\n",
        "big_eshkolot_final.set_index(\"eco_level\",inplace=True,append=True)\n",
        "big_parties_final = big_eshkolot_final[parties_dict_2021.keys()]\n",
        "eshkolot_ksherim = check_merg.groupby(\"eco_level\")[\"כשרים\"].sum().nlargest(7)\n",
        "weighted_prob = pd.DataFrame()\n",
        "for j in range(100):\n",
        "  p_hat_sample = pd.DataFrame()\n",
        "  for i in big_eshkolot:\n",
        "    sample = big_parties_final.loc[big_parties_final.index.get_level_values(1)==i].sample(1)\n",
        "    p_hat_sample = p_hat_sample.append(sample.div(sample.sum(axis=1),axis=0), ignore_index=True)\n",
        "  p_hat_sample.set_index(big_eshkolot,inplace=True)  \n",
        "  p_hat_sample.index.set_names(\"eco_level\",inplace=True)\n",
        "  p_j_hat = p_hat_sample.mul(eshkolot_ksherim,axis=0).div(eshkolot_ksherim.sum()).sum()\n",
        "  weighted_prob = weighted_prob.append(p_j_hat,  ignore_index=True)\n",
        "weighted_prob_mean = weighted_prob.mean(axis=0)\n",
        "bias_weighted = weighted_prob_mean - original\n",
        "weighted_prob_var = weighted_prob.var()\n",
        "weighted_prob_mse = weighted_prob_var + bias_weighted.pow(2)\n",
        "weighted_table = pd.concat((weighted_prob_mean, bias,weighted_prob_var,weighted_prob_mse),axis=1)\n",
        "weighted_table.columns = [\"Mean\" , \"bias\", \"var\", \"mse\"]\n",
        "weighted_table.T"
      ],
      "metadata": {
        "id": "BhTtwn8vpOJM",
        "colab": {
          "base_uri": "https://localhost:8080/",
          "height": 175
        },
        "outputId": "780a568f-5f71-4bc3-96c4-4f44ebd167ba"
      },
      "execution_count": 57,
      "outputs": [
        {
          "output_type": "execute_result",
          "data": {
            "text/html": [
              "\n",
              "  <div id=\"df-3f2c0cdc-932b-4c09-817f-8b8a4d666a9e\">\n",
              "    <div class=\"colab-df-container\">\n",
              "      <div>\n",
              "<style scoped>\n",
              "    .dataframe tbody tr th:only-of-type {\n",
              "        vertical-align: middle;\n",
              "    }\n",
              "\n",
              "    .dataframe tbody tr th {\n",
              "        vertical-align: top;\n",
              "    }\n",
              "\n",
              "    .dataframe thead th {\n",
              "        text-align: right;\n",
              "    }\n",
              "</style>\n",
              "<table border=\"1\" class=\"dataframe\">\n",
              "  <thead>\n",
              "    <tr style=\"text-align: right;\">\n",
              "      <th></th>\n",
              "      <th>אמת</th>\n",
              "      <th>ב</th>\n",
              "      <th>ג</th>\n",
              "      <th>ודעם</th>\n",
              "      <th>ט</th>\n",
              "      <th>כן</th>\n",
              "      <th>ל</th>\n",
              "      <th>מחל</th>\n",
              "      <th>מרצ</th>\n",
              "      <th>עם</th>\n",
              "      <th>פה</th>\n",
              "      <th>שס</th>\n",
              "      <th>ת</th>\n",
              "    </tr>\n",
              "  </thead>\n",
              "  <tbody>\n",
              "    <tr>\n",
              "      <th>Mean</th>\n",
              "      <td>0.060494</td>\n",
              "      <td>0.056962</td>\n",
              "      <td>0.050916</td>\n",
              "      <td>0.064146</td>\n",
              "      <td>0.045866</td>\n",
              "      <td>0.068623</td>\n",
              "      <td>0.058753</td>\n",
              "      <td>0.248247</td>\n",
              "      <td>0.046529</td>\n",
              "      <td>0.041154</td>\n",
              "      <td>0.139948</td>\n",
              "      <td>0.071563</td>\n",
              "      <td>0.046799</td>\n",
              "    </tr>\n",
              "    <tr>\n",
              "      <th>bias</th>\n",
              "      <td>0.002819</td>\n",
              "      <td>0.001644</td>\n",
              "      <td>-0.004373</td>\n",
              "      <td>0.002596</td>\n",
              "      <td>-0.002885</td>\n",
              "      <td>0.001732</td>\n",
              "      <td>-0.001561</td>\n",
              "      <td>0.004425</td>\n",
              "      <td>0.000520</td>\n",
              "      <td>0.011309</td>\n",
              "      <td>0.000337</td>\n",
              "      <td>-0.001198</td>\n",
              "      <td>-0.000947</td>\n",
              "    </tr>\n",
              "    <tr>\n",
              "      <th>var</th>\n",
              "      <td>0.000625</td>\n",
              "      <td>0.000415</td>\n",
              "      <td>0.002424</td>\n",
              "      <td>0.002947</td>\n",
              "      <td>0.000514</td>\n",
              "      <td>0.000319</td>\n",
              "      <td>0.000425</td>\n",
              "      <td>0.002848</td>\n",
              "      <td>0.000445</td>\n",
              "      <td>0.001300</td>\n",
              "      <td>0.000806</td>\n",
              "      <td>0.001300</td>\n",
              "      <td>0.000101</td>\n",
              "    </tr>\n",
              "    <tr>\n",
              "      <th>mse</th>\n",
              "      <td>0.000628</td>\n",
              "      <td>0.000418</td>\n",
              "      <td>0.002487</td>\n",
              "      <td>0.003134</td>\n",
              "      <td>0.000529</td>\n",
              "      <td>0.000323</td>\n",
              "      <td>0.000436</td>\n",
              "      <td>0.002891</td>\n",
              "      <td>0.000446</td>\n",
              "      <td>0.001301</td>\n",
              "      <td>0.000806</td>\n",
              "      <td>0.001302</td>\n",
              "      <td>0.000101</td>\n",
              "    </tr>\n",
              "  </tbody>\n",
              "</table>\n",
              "</div>\n",
              "      <button class=\"colab-df-convert\" onclick=\"convertToInteractive('df-3f2c0cdc-932b-4c09-817f-8b8a4d666a9e')\"\n",
              "              title=\"Convert this dataframe to an interactive table.\"\n",
              "              style=\"display:none;\">\n",
              "        \n",
              "  <svg xmlns=\"http://www.w3.org/2000/svg\" height=\"24px\"viewBox=\"0 0 24 24\"\n",
              "       width=\"24px\">\n",
              "    <path d=\"M0 0h24v24H0V0z\" fill=\"none\"/>\n",
              "    <path d=\"M18.56 5.44l.94 2.06.94-2.06 2.06-.94-2.06-.94-.94-2.06-.94 2.06-2.06.94zm-11 1L8.5 8.5l.94-2.06 2.06-.94-2.06-.94L8.5 2.5l-.94 2.06-2.06.94zm10 10l.94 2.06.94-2.06 2.06-.94-2.06-.94-.94-2.06-.94 2.06-2.06.94z\"/><path d=\"M17.41 7.96l-1.37-1.37c-.4-.4-.92-.59-1.43-.59-.52 0-1.04.2-1.43.59L10.3 9.45l-7.72 7.72c-.78.78-.78 2.05 0 2.83L4 21.41c.39.39.9.59 1.41.59.51 0 1.02-.2 1.41-.59l7.78-7.78 2.81-2.81c.8-.78.8-2.07 0-2.86zM5.41 20L4 18.59l7.72-7.72 1.47 1.35L5.41 20z\"/>\n",
              "  </svg>\n",
              "      </button>\n",
              "      \n",
              "  <style>\n",
              "    .colab-df-container {\n",
              "      display:flex;\n",
              "      flex-wrap:wrap;\n",
              "      gap: 12px;\n",
              "    }\n",
              "\n",
              "    .colab-df-convert {\n",
              "      background-color: #E8F0FE;\n",
              "      border: none;\n",
              "      border-radius: 50%;\n",
              "      cursor: pointer;\n",
              "      display: none;\n",
              "      fill: #1967D2;\n",
              "      height: 32px;\n",
              "      padding: 0 0 0 0;\n",
              "      width: 32px;\n",
              "    }\n",
              "\n",
              "    .colab-df-convert:hover {\n",
              "      background-color: #E2EBFA;\n",
              "      box-shadow: 0px 1px 2px rgba(60, 64, 67, 0.3), 0px 1px 3px 1px rgba(60, 64, 67, 0.15);\n",
              "      fill: #174EA6;\n",
              "    }\n",
              "\n",
              "    [theme=dark] .colab-df-convert {\n",
              "      background-color: #3B4455;\n",
              "      fill: #D2E3FC;\n",
              "    }\n",
              "\n",
              "    [theme=dark] .colab-df-convert:hover {\n",
              "      background-color: #434B5C;\n",
              "      box-shadow: 0px 1px 3px 1px rgba(0, 0, 0, 0.15);\n",
              "      filter: drop-shadow(0px 1px 2px rgba(0, 0, 0, 0.3));\n",
              "      fill: #FFFFFF;\n",
              "    }\n",
              "  </style>\n",
              "\n",
              "      <script>\n",
              "        const buttonEl =\n",
              "          document.querySelector('#df-3f2c0cdc-932b-4c09-817f-8b8a4d666a9e button.colab-df-convert');\n",
              "        buttonEl.style.display =\n",
              "          google.colab.kernel.accessAllowed ? 'block' : 'none';\n",
              "\n",
              "        async function convertToInteractive(key) {\n",
              "          const element = document.querySelector('#df-3f2c0cdc-932b-4c09-817f-8b8a4d666a9e');\n",
              "          const dataTable =\n",
              "            await google.colab.kernel.invokeFunction('convertToInteractive',\n",
              "                                                     [key], {});\n",
              "          if (!dataTable) return;\n",
              "\n",
              "          const docLinkHtml = 'Like what you see? Visit the ' +\n",
              "            '<a target=\"_blank\" href=https://colab.research.google.com/notebooks/data_table.ipynb>data table notebook</a>'\n",
              "            + ' to learn more about interactive tables.';\n",
              "          element.innerHTML = '';\n",
              "          dataTable['output_type'] = 'display_data';\n",
              "          await google.colab.output.renderOutput(dataTable, element);\n",
              "          const docLink = document.createElement('div');\n",
              "          docLink.innerHTML = docLinkHtml;\n",
              "          element.appendChild(docLink);\n",
              "        }\n",
              "      </script>\n",
              "    </div>\n",
              "  </div>\n",
              "  "
            ],
            "text/plain": [
              "           אמת         ב         ג  ...        פה        שס         ת\n",
              "Mean  0.060494  0.056962  0.050916  ...  0.139948  0.071563  0.046799\n",
              "bias  0.002819  0.001644 -0.004373  ...  0.000337 -0.001198 -0.000947\n",
              "var   0.000625  0.000415  0.002424  ...  0.000806  0.001300  0.000101\n",
              "mse   0.000628  0.000418  0.002487  ...  0.000806  0.001302  0.000101\n",
              "\n",
              "[4 rows x 13 columns]"
            ]
          },
          "metadata": {},
          "execution_count": 57
        }
      ]
    },
    {
      "cell_type": "code",
      "source": [
        "bar_plot(prob_bal,weighted_prob)"
      ],
      "metadata": {
        "id": "5S72BZI2wI_c",
        "colab": {
          "base_uri": "https://localhost:8080/",
          "height": 401
        },
        "outputId": "5c8ae272-44d2-4c8f-cb39-4a2b72fa7a6c"
      },
      "execution_count": 58,
      "outputs": [
        {
          "output_type": "display_data",
          "data": {
            "image/png": "[encoded data removed]",
            "text/plain": [
              "<Figure size 432x288 with 1 Axes>"
            ]
          },
          "metadata": {
            "needs_background": "light"
          }
        },
        {
          "output_type": "execute_result",
          "data": {
            "text/plain": [
              "(<Figure size 432x288 with 1 Axes>,\n",
              " <matplotlib.axes._subplots.AxesSubplot at 0x7fb824b43610>)"
            ]
          },
          "metadata": {},
          "execution_count": 58
        }
      ]
    },
    {
      "cell_type": "code",
      "source": [
        "diff_mse = prob_bal_mse.sum() - weighted_prob_mse.sum()"
      ],
      "metadata": {
        "id": "VpyEKTIowkzd"
      },
      "execution_count": 59,
      "outputs": []
    },
    {
      "cell_type": "code",
      "source": [
        "p_hat_sample.mul(eshkolot_ksherim,axis=0).div(eshkolot_ksherim.sum()).sum()"
      ],
      "metadata": {
        "id": "TysVCRPqny--",
        "colab": {
          "base_uri": "https://localhost:8080/"
        },
        "outputId": "8af4d10b-5ff5-4a1c-fd85-d4443ef9bc9d"
      },
      "execution_count": 60,
      "outputs": [
        {
          "output_type": "execute_result",
          "data": {
            "text/plain": [
              "אמת     0.101100\n",
              "מרצ     0.058778\n",
              "ג       0.005559\n",
              "עם      0.053320\n",
              "ת       0.038526\n",
              "ודעם    0.163751\n",
              "ב       0.044500\n",
              "ט       0.040282\n",
              "ל       0.041504\n",
              "מחל     0.253890\n",
              "פה      0.111112\n",
              "כן      0.050382\n",
              "שס      0.037294\n",
              "dtype: float64"
            ]
          },
          "metadata": {},
          "execution_count": 60
        }
      ]
    },
    {
      "cell_type": "code",
      "source": [
        "print(f\"the sum of weighted mse is: {weighted_prob_mse.sum()} compare to the sum of random samples mse is: {prob_bal_mse.sum()}\")\n",
        "print(f\"and the diffrence is: {diff_mse}.\")\n",
        "print(\"we can see that the MSE for the layers estimate is lower then the of the sample. then we will prefer the layer sample ( the seconed method)\")"
      ],
      "metadata": {
        "id": "POw6wvoQdN7A",
        "colab": {
          "base_uri": "https://localhost:8080/"
        },
        "outputId": "f0d953a6-7b96-4c2a-e445-87d54432ab6e"
      },
      "execution_count": 61,
      "outputs": [
        {
          "output_type": "stream",
          "name": "stdout",
          "text": [
            "the sum of weighted mse is: 0.01480277931047011 compare to the sum of random samples mse is: 0.022940695157763185\n",
            "and the diffrence is: 0.008137915847293075.\n",
            "we can see that the MSE for the layers estimate is lower then the of the sample. then we will prefer the layer sample ( the seconed method)\n"
          ]
        }
      ]
    },
    {
      "cell_type": "markdown",
      "source": [
        "# 3"
      ],
      "metadata": {
        "id": "3GguXRTqcTuV"
      }
    },
    {
      "cell_type": "code",
      "source": [
        "# nine_big = [\"טב\", \"ל\", \"אמת\", \"ג\", \"שס\", \"ודעם\", \"פה\", \"מחל\", \"נץ\"]\n",
        "df_2020_ballots_big_par = df_2020_ballots_raw.set_index([\"קלפי\"], append=True)\n",
        "# df_2020_ballots_big_par = df_2020_ballots_big_par.loc[:,nine_big]\n",
        "df_2020_ballots_big_par[\"מרצ\"] = df_2020_ballots_big_par[\"אמת\"]*0.5\n",
        "df_2020_ballots_big_par[\"אמת\"] = df_2020_ballots_big_par[\"אמת\"]*0.5\n",
        "df_2020_ballots_big_par[\"עם\"] = df_2020_ballots_big_par[\"ודעם\"]*0.4\n",
        "df_2020_ballots_big_par[\"ודעם\"] = df_2020_ballots_big_par[\"ודעם\"]*0.6\n",
        "df_2020_ballots_big_par[\"ת\"] = df_2020_ballots_big_par[\"מחל\"]*0.167\n",
        "df_2020_ballots_big_par[\"מחל\"] = df_2020_ballots_big_par[\"מחל\"]*0.833\n",
        "df_2020_ballots_big_par[\"כן\"] = df_2020_ballots_big_par[\"פה\"]*0.333\n",
        "df_2020_ballots_big_par[\"פה\"] = df_2020_ballots_big_par[\"פה\"]*0.667\n",
        "df_2020_ballots_big_par[\"ב\"] = df_2020_ballots_big_par[\"טב\"]*0.6\n",
        "df_2020_ballots_big_par[\"ט\"] = df_2020_ballots_big_par[\"טב\"]*0.4\n",
        "df_2020_ballots_big_par[\"ט\"] = df_2020_ballots_big_par[\"ט\"]+df_2020_ballots_big_par[\"נץ\"]\n",
        "df_2020_ballots_big_par = df_2020_ballots_big_par.drop(columns = \"נץ\")\n",
        "df_2020_ballots_big_par = df_2020_ballots_big_par.drop(columns = \"טב\")\n",
        "df_2020_ballots_big_par = df_2020_ballots_big_par.iloc[:,9:]\n",
        "df_2020_ballots_big_par = df_2020_ballots_big_par.drop(columns = \"Unnamed: 41\")"
      ],
      "metadata": {
        "id": "MK2fvFwaXssw"
      },
      "execution_count": 62,
      "outputs": []
    },
    {
      "cell_type": "code",
      "source": [
        "r_j = df_2020_ballots_big_par.sum().div(df_2020_ballots_big_par.sum().sum())\n",
        "r_j = r_j[parties_dict_2021]"
      ],
      "metadata": {
        "id": "pN6vMRoHaEuE"
      },
      "execution_count": 63,
      "outputs": []
    },
    {
      "cell_type": "code",
      "source": [
        "alphas = np.arange(0.01,1.01,0.01)"
      ],
      "metadata": {
        "id": "LR0FwBRsfV2P"
      },
      "execution_count": 64,
      "outputs": []
    },
    {
      "cell_type": "code",
      "source": [
        "all_rj = df_2020_ballots_big_par.sum().div(df_2020_ballots_big_par.sum().sum())\n",
        "all_rj = all_rj[parties_dict_2021].sort_index()"
      ],
      "metadata": {
        "id": "5kTR37LXbO79"
      },
      "execution_count": 65,
      "outputs": []
    },
    {
      "cell_type": "code",
      "source": [
        "# p𝑗(α)= α*𝑝𝑗 + (1 − α)𝑟j\n",
        "prob_bal_mean = prob_bal_mean.sort_index()\n",
        "p_j_alphas = dict()\n",
        "for a in alphas:\n",
        "  p_j_alphas[a] = (a*prob_bal_mean) + ((1 - a)*all_rj)\n",
        "p_j_alphas = pd.DataFrame(p_j_alphas).T\n",
        "p_j_alphas"
      ],
      "metadata": {
        "id": "qew7mYSthzTg",
        "colab": {
          "base_uri": "https://localhost:8080/",
          "height": 423
        },
        "outputId": "ddb89452-aaa7-4b01-c6c5-a0bb8fe2b7c8"
      },
      "execution_count": 66,
      "outputs": [
        {
          "output_type": "execute_result",
          "data": {
            "text/html": [
              "\n",
              "  <div id=\"df-d3a40a23-5553-4f20-bd49-bab64cf1b5e8\">\n",
              "    <div class=\"colab-df-container\">\n",
              "      <div>\n",
              "<style scoped>\n",
              "    .dataframe tbody tr th:only-of-type {\n",
              "        vertical-align: middle;\n",
              "    }\n",
              "\n",
              "    .dataframe tbody tr th {\n",
              "        vertical-align: top;\n",
              "    }\n",
              "\n",
              "    .dataframe thead th {\n",
              "        text-align: right;\n",
              "    }\n",
              "</style>\n",
              "<table border=\"1\" class=\"dataframe\">\n",
              "  <thead>\n",
              "    <tr style=\"text-align: right;\">\n",
              "      <th></th>\n",
              "      <th>אמת</th>\n",
              "      <th>ב</th>\n",
              "      <th>ג</th>\n",
              "      <th>ודעם</th>\n",
              "      <th>ט</th>\n",
              "      <th>כן</th>\n",
              "      <th>ל</th>\n",
              "      <th>מחל</th>\n",
              "      <th>מרצ</th>\n",
              "      <th>עם</th>\n",
              "      <th>פה</th>\n",
              "      <th>שס</th>\n",
              "      <th>ת</th>\n",
              "    </tr>\n",
              "  </thead>\n",
              "  <tbody>\n",
              "    <tr>\n",
              "      <th>0.01</th>\n",
              "      <td>0.029467</td>\n",
              "      <td>0.031757</td>\n",
              "      <td>0.059746</td>\n",
              "      <td>0.075797</td>\n",
              "      <td>0.025423</td>\n",
              "      <td>0.088349</td>\n",
              "      <td>0.057352</td>\n",
              "      <td>0.245491</td>\n",
              "      <td>0.029312</td>\n",
              "      <td>0.050693</td>\n",
              "      <td>0.176994</td>\n",
              "      <td>0.076838</td>\n",
              "      <td>0.049182</td>\n",
              "    </tr>\n",
              "    <tr>\n",
              "      <th>0.02</th>\n",
              "      <td>0.029791</td>\n",
              "      <td>0.032045</td>\n",
              "      <td>0.059693</td>\n",
              "      <td>0.075568</td>\n",
              "      <td>0.025640</td>\n",
              "      <td>0.088147</td>\n",
              "      <td>0.057316</td>\n",
              "      <td>0.245497</td>\n",
              "      <td>0.029481</td>\n",
              "      <td>0.050701</td>\n",
              "      <td>0.176618</td>\n",
              "      <td>0.076790</td>\n",
              "      <td>0.049150</td>\n",
              "    </tr>\n",
              "    <tr>\n",
              "      <th>0.03</th>\n",
              "      <td>0.030116</td>\n",
              "      <td>0.032334</td>\n",
              "      <td>0.059640</td>\n",
              "      <td>0.075338</td>\n",
              "      <td>0.025857</td>\n",
              "      <td>0.087944</td>\n",
              "      <td>0.057280</td>\n",
              "      <td>0.245503</td>\n",
              "      <td>0.029651</td>\n",
              "      <td>0.050710</td>\n",
              "      <td>0.176242</td>\n",
              "      <td>0.076741</td>\n",
              "      <td>0.049117</td>\n",
              "    </tr>\n",
              "    <tr>\n",
              "      <th>0.04</th>\n",
              "      <td>0.030441</td>\n",
              "      <td>0.032623</td>\n",
              "      <td>0.059586</td>\n",
              "      <td>0.075109</td>\n",
              "      <td>0.026073</td>\n",
              "      <td>0.087742</td>\n",
              "      <td>0.057245</td>\n",
              "      <td>0.245509</td>\n",
              "      <td>0.029821</td>\n",
              "      <td>0.050718</td>\n",
              "      <td>0.175866</td>\n",
              "      <td>0.076692</td>\n",
              "      <td>0.049085</td>\n",
              "    </tr>\n",
              "    <tr>\n",
              "      <th>0.05</th>\n",
              "      <td>0.030766</td>\n",
              "      <td>0.032912</td>\n",
              "      <td>0.059533</td>\n",
              "      <td>0.074880</td>\n",
              "      <td>0.026290</td>\n",
              "      <td>0.087540</td>\n",
              "      <td>0.057209</td>\n",
              "      <td>0.245515</td>\n",
              "      <td>0.029990</td>\n",
              "      <td>0.050727</td>\n",
              "      <td>0.175490</td>\n",
              "      <td>0.076644</td>\n",
              "      <td>0.049052</td>\n",
              "    </tr>\n",
              "    <tr>\n",
              "      <th>...</th>\n",
              "      <td>...</td>\n",
              "      <td>...</td>\n",
              "      <td>...</td>\n",
              "      <td>...</td>\n",
              "      <td>...</td>\n",
              "      <td>...</td>\n",
              "      <td>...</td>\n",
              "      <td>...</td>\n",
              "      <td>...</td>\n",
              "      <td>...</td>\n",
              "      <td>...</td>\n",
              "      <td>...</td>\n",
              "      <td>...</td>\n",
              "    </tr>\n",
              "    <tr>\n",
              "      <th>0.96</th>\n",
              "      <td>0.060315</td>\n",
              "      <td>0.059194</td>\n",
              "      <td>0.054667</td>\n",
              "      <td>0.054008</td>\n",
              "      <td>0.046020</td>\n",
              "      <td>0.069114</td>\n",
              "      <td>0.053963</td>\n",
              "      <td>0.246063</td>\n",
              "      <td>0.045427</td>\n",
              "      <td>0.051501</td>\n",
              "      <td>0.141272</td>\n",
              "      <td>0.072219</td>\n",
              "      <td>0.046090</td>\n",
              "    </tr>\n",
              "    <tr>\n",
              "      <th>0.97</th>\n",
              "      <td>0.060639</td>\n",
              "      <td>0.059483</td>\n",
              "      <td>0.054613</td>\n",
              "      <td>0.053779</td>\n",
              "      <td>0.046236</td>\n",
              "      <td>0.068912</td>\n",
              "      <td>0.053928</td>\n",
              "      <td>0.246069</td>\n",
              "      <td>0.045597</td>\n",
              "      <td>0.051510</td>\n",
              "      <td>0.140896</td>\n",
              "      <td>0.072171</td>\n",
              "      <td>0.046058</td>\n",
              "    </tr>\n",
              "    <tr>\n",
              "      <th>0.98</th>\n",
              "      <td>0.060964</td>\n",
              "      <td>0.059772</td>\n",
              "      <td>0.054560</td>\n",
              "      <td>0.053550</td>\n",
              "      <td>0.046453</td>\n",
              "      <td>0.068709</td>\n",
              "      <td>0.053892</td>\n",
              "      <td>0.246075</td>\n",
              "      <td>0.045767</td>\n",
              "      <td>0.051518</td>\n",
              "      <td>0.140520</td>\n",
              "      <td>0.072122</td>\n",
              "      <td>0.046025</td>\n",
              "    </tr>\n",
              "    <tr>\n",
              "      <th>0.99</th>\n",
              "      <td>0.061289</td>\n",
              "      <td>0.060061</td>\n",
              "      <td>0.054506</td>\n",
              "      <td>0.053320</td>\n",
              "      <td>0.046670</td>\n",
              "      <td>0.068507</td>\n",
              "      <td>0.053856</td>\n",
              "      <td>0.246082</td>\n",
              "      <td>0.045936</td>\n",
              "      <td>0.051527</td>\n",
              "      <td>0.140144</td>\n",
              "      <td>0.072074</td>\n",
              "      <td>0.045992</td>\n",
              "    </tr>\n",
              "    <tr>\n",
              "      <th>1.00</th>\n",
              "      <td>0.061614</td>\n",
              "      <td>0.060349</td>\n",
              "      <td>0.054453</td>\n",
              "      <td>0.053091</td>\n",
              "      <td>0.046887</td>\n",
              "      <td>0.068304</td>\n",
              "      <td>0.053821</td>\n",
              "      <td>0.246088</td>\n",
              "      <td>0.046106</td>\n",
              "      <td>0.051535</td>\n",
              "      <td>0.139768</td>\n",
              "      <td>0.072025</td>\n",
              "      <td>0.045960</td>\n",
              "    </tr>\n",
              "  </tbody>\n",
              "</table>\n",
              "<p>100 rows × 13 columns</p>\n",
              "</div>\n",
              "      <button class=\"colab-df-convert\" onclick=\"convertToInteractive('df-d3a40a23-5553-4f20-bd49-bab64cf1b5e8')\"\n",
              "              title=\"Convert this dataframe to an interactive table.\"\n",
              "              style=\"display:none;\">\n",
              "        \n",
              "  <svg xmlns=\"http://www.w3.org/2000/svg\" height=\"24px\"viewBox=\"0 0 24 24\"\n",
              "       width=\"24px\">\n",
              "    <path d=\"M0 0h24v24H0V0z\" fill=\"none\"/>\n",
              "    <path d=\"M18.56 5.44l.94 2.06.94-2.06 2.06-.94-2.06-.94-.94-2.06-.94 2.06-2.06.94zm-11 1L8.5 8.5l.94-2.06 2.06-.94-2.06-.94L8.5 2.5l-.94 2.06-2.06.94zm10 10l.94 2.06.94-2.06 2.06-.94-2.06-.94-.94-2.06-.94 2.06-2.06.94z\"/><path d=\"M17.41 7.96l-1.37-1.37c-.4-.4-.92-.59-1.43-.59-.52 0-1.04.2-1.43.59L10.3 9.45l-7.72 7.72c-.78.78-.78 2.05 0 2.83L4 21.41c.39.39.9.59 1.41.59.51 0 1.02-.2 1.41-.59l7.78-7.78 2.81-2.81c.8-.78.8-2.07 0-2.86zM5.41 20L4 18.59l7.72-7.72 1.47 1.35L5.41 20z\"/>\n",
              "  </svg>\n",
              "      </button>\n",
              "      \n",
              "  <style>\n",
              "    .colab-df-container {\n",
              "      display:flex;\n",
              "      flex-wrap:wrap;\n",
              "      gap: 12px;\n",
              "    }\n",
              "\n",
              "    .colab-df-convert {\n",
              "      background-color: #E8F0FE;\n",
              "      border: none;\n",
              "      border-radius: 50%;\n",
              "      cursor: pointer;\n",
              "      display: none;\n",
              "      fill: #1967D2;\n",
              "      height: 32px;\n",
              "      padding: 0 0 0 0;\n",
              "      width: 32px;\n",
              "    }\n",
              "\n",
              "    .colab-df-convert:hover {\n",
              "      background-color: #E2EBFA;\n",
              "      box-shadow: 0px 1px 2px rgba(60, 64, 67, 0.3), 0px 1px 3px 1px rgba(60, 64, 67, 0.15);\n",
              "      fill: #174EA6;\n",
              "    }\n",
              "\n",
              "    [theme=dark] .colab-df-convert {\n",
              "      background-color: #3B4455;\n",
              "      fill: #D2E3FC;\n",
              "    }\n",
              "\n",
              "    [theme=dark] .colab-df-convert:hover {\n",
              "      background-color: #434B5C;\n",
              "      box-shadow: 0px 1px 3px 1px rgba(0, 0, 0, 0.15);\n",
              "      filter: drop-shadow(0px 1px 2px rgba(0, 0, 0, 0.3));\n",
              "      fill: #FFFFFF;\n",
              "    }\n",
              "  </style>\n",
              "\n",
              "      <script>\n",
              "        const buttonEl =\n",
              "          document.querySelector('#df-d3a40a23-5553-4f20-bd49-bab64cf1b5e8 button.colab-df-convert');\n",
              "        buttonEl.style.display =\n",
              "          google.colab.kernel.accessAllowed ? 'block' : 'none';\n",
              "\n",
              "        async function convertToInteractive(key) {\n",
              "          const element = document.querySelector('#df-d3a40a23-5553-4f20-bd49-bab64cf1b5e8');\n",
              "          const dataTable =\n",
              "            await google.colab.kernel.invokeFunction('convertToInteractive',\n",
              "                                                     [key], {});\n",
              "          if (!dataTable) return;\n",
              "\n",
              "          const docLinkHtml = 'Like what you see? Visit the ' +\n",
              "            '<a target=\"_blank\" href=https://colab.research.google.com/notebooks/data_table.ipynb>data table notebook</a>'\n",
              "            + ' to learn more about interactive tables.';\n",
              "          element.innerHTML = '';\n",
              "          dataTable['output_type'] = 'display_data';\n",
              "          await google.colab.output.renderOutput(dataTable, element);\n",
              "          const docLink = document.createElement('div');\n",
              "          docLink.innerHTML = docLinkHtml;\n",
              "          element.appendChild(docLink);\n",
              "        }\n",
              "      </script>\n",
              "    </div>\n",
              "  </div>\n",
              "  "
            ],
            "text/plain": [
              "           אמת         ב         ג  ...        פה        שס         ת\n",
              "0.01  0.029467  0.031757  0.059746  ...  0.176994  0.076838  0.049182\n",
              "0.02  0.029791  0.032045  0.059693  ...  0.176618  0.076790  0.049150\n",
              "0.03  0.030116  0.032334  0.059640  ...  0.176242  0.076741  0.049117\n",
              "0.04  0.030441  0.032623  0.059586  ...  0.175866  0.076692  0.049085\n",
              "0.05  0.030766  0.032912  0.059533  ...  0.175490  0.076644  0.049052\n",
              "...        ...       ...       ...  ...       ...       ...       ...\n",
              "0.96  0.060315  0.059194  0.054667  ...  0.141272  0.072219  0.046090\n",
              "0.97  0.060639  0.059483  0.054613  ...  0.140896  0.072171  0.046058\n",
              "0.98  0.060964  0.059772  0.054560  ...  0.140520  0.072122  0.046025\n",
              "0.99  0.061289  0.060061  0.054506  ...  0.140144  0.072074  0.045992\n",
              "1.00  0.061614  0.060349  0.054453  ...  0.139768  0.072025  0.045960\n",
              "\n",
              "[100 rows x 13 columns]"
            ]
          },
          "metadata": {},
          "execution_count": 66
        }
      ]
    },
    {
      "cell_type": "code",
      "source": [
        "# לפי השיטה שאור צוק לימד בכיתה\n",
        "alphas_for_var = np.array(p_j_alphas.index**2).reshape([p_j_alphas.shape[0],1])\n",
        "np_prob_bal_var = np.array(prob_bal_var).reshape([1,prob_bal_var.size])\n",
        "var_p_alpha_j = alphas_for_var @ np_prob_bal_var\n",
        "var_p_table = pd.DataFrame(var_p_alpha_j,columns=p_j_alphas.columns,index=alphas)"
      ],
      "metadata": {
        "id": "Lm7XAuQniiZv"
      },
      "execution_count": 67,
      "outputs": []
    },
    {
      "cell_type": "code",
      "source": [
        "bias_pj = (all_rj - original)\n",
        "alphas_for_bias = (1 - alphas).reshape((alphas.size,1))\n",
        "bias_pj = np.array(bias_pj).reshape((1,bias_pj.size))\n",
        "overall_bias = alphas_for_bias @ bias_pj\n",
        "overall_bias_mul = overall_bias**2"
      ],
      "metadata": {
        "id": "1E4M6NJOQraJ"
      },
      "execution_count": 68,
      "outputs": []
    },
    {
      "cell_type": "code",
      "source": [
        "overall_mse = var_p_alpha_j + overall_bias_mul"
      ],
      "metadata": {
        "id": "D76NQx3JeCT1"
      },
      "execution_count": 69,
      "outputs": []
    },
    {
      "cell_type": "code",
      "source": [
        "fig, ax = plt.subplots(4, 4, figsize=(15,10))\n",
        "ax = ax.flat\n",
        "for i,party in enumerate(p_j_alphas.columns):\n",
        "    pow_bias = (bias_pj[0][i])**2   \n",
        "    alpha_opt = pow_bias / (pow_bias + np_prob_bal_var[0][i])\n",
        "    ax[i].plot(alphas,overall_bias_mul[:,i], color=\"blue\")\n",
        "    ax[i].plot(alphas, overall_mse[:,i], color=\"green\")\n",
        "    ax[i].plot(alphas,var_p_alpha_j[:,i], color=\"orange\")\n",
        "    ax[i].plot([alpha_opt,alpha_opt] ,[0,max(overall_mse[:,i])], linestyle = ':', color=\"purple\")\n",
        "    ax[i].plot([0.5,0.5] ,[0,max(overall_mse[:,i])], linestyle = ':', color=\"red\")\n",
        "    ax[i].set_title(parties_dict_2021[party][::-1], fontsize=14)\n",
        "    ax[i].set_xlabel(r\"$\\alpha$\")\n",
        "    ax[2].legend((\"bias$^2$\", \"MSE\", \"Variance\",r\"min-MSE $(\\alpha)$\",r\"$\\alpha = 0.5$\"))\n",
        "fig.tight_layout() \n",
        "plt.show()"
      ],
      "metadata": {
        "id": "gXiFA9U7eOc3",
        "colab": {
          "base_uri": "https://localhost:8080/",
          "height": 729
        },
        "outputId": "113b5cc4-b96c-4571-dbb6-3ac48ea7aad5"
      },
      "execution_count": 70,
      "outputs": [
        {
          "output_type": "display_data",
          "data": {
            "image/png": "[encoded data removed]",
            "text/plain": [
              "<Figure size 1080x720 with 16 Axes>"
            ]
          },
          "metadata": {
            "needs_background": "light"
          }
        }
      ]
    },
    {
      "cell_type": "markdown",
      "source": [
        "We can see that for all parties MSE for alpha = 0.5 is lower then for alpha = 1, and from that we can say that alpha = 0.5 is better then alpha = 1 in terms of MSE . There isnt a constant alpha value that gives us the lower MSE possible for all the parties together. But we can see that for most of the parties the alpha that gives us the lowest MSE possible is around 0 or 0.5."
      ],
      "metadata": {
        "id": "QUiJFF6hNxlf"
      }
    }
  ]
}