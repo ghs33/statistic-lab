{
  "nbformat": 4,
  "nbformat_minor": 0,
  "metadata": {
    "colab": {
      "name": "lab_4 (1).ipynb",
      "provenance": [],
      "collapsed_sections": []
    },
    "kernelspec": {
      "display_name": "Python 3",
      "language": "python",
      "name": "python3"
    },
    "language_info": {
      "codemirror_mode": {
        "name": "ipython",
        "version": 3
      },
      "file_extension": ".py",
      "mimetype": "text/x-python",
      "name": "python",
      "nbconvert_exporter": "python",
      "pygments_lexer": "ipython3",
      "version": "3.7.4"
    }
  },
  "cells": [
    {
      "cell_type": "markdown",
      "metadata": {
        "id": "lyQ45Phps6Z6"
      },
      "source": [
        "# **Israel Elections Data Analysis**\n",
        "\n",
        "An example notebook showing how to read and display the Israel 2021 elections results. This is the notebook for the first week."
      ]
    },
    {
      "cell_type": "code",
      "metadata": {
        "colab": {
          "base_uri": "https://localhost:8080/"
        },
        "id": "eRKSr5EstAUm",
        "outputId": "6825ee08-46cf-48ec-e2cc-1cff76b1b735"
      },
      "source": [
        "# Add a check if we run in google colab or locally in jupyter notebook\n",
        "run_in_colab = False\n",
        "if 'google.colab' in str(get_ipython()):\n",
        "    run_in_colab = True\n",
        "    print('Running on CoLab')\n",
        "else:\n",
        "    print('Running locally on Jupyter')\n",
        "\n"
      ],
      "execution_count": null,
      "outputs": [
        {
          "output_type": "stream",
          "name": "stdout",
          "text": [
            "Running on CoLab\n"
          ]
        }
      ]
    },
    {
      "cell_type": "code",
      "metadata": {
        "id": "FTNiH27ZzL1F"
      },
      "source": [
        "# First install tha needed packages using conda in the current Jupyter kernel\n",
        "# Run once - should take a long time!\n",
        "import sys\n",
        "#if not(run_in_colab):\n",
        "#  !conda install --yes --prefix {sys.prefix} numpy\n",
        "#  !conda install --yes --prefix {sys.prefix} pandas\n",
        "#  !conda install --yes --prefix {sys.prefix} matplotlib\n",
        "#  !conda install --yes --prefix {sys.prefix} statsmodels  # statistical modelling \n",
        "#  !conda install --yes --prefix {sys.prefix} xlrd  # read excel \n",
        "\n",
        "\n",
        "\n",
        "# Alternatively, if your python wasn't installed using anaconda, we can use pip install: \n",
        "# !{sys.executable} -m pip install numpy\n",
        "# !{sys.executable} -m pip install pandas\n",
        "# !{sys.executable} -m pip install matplotlib\n"
      ],
      "execution_count": null,
      "outputs": []
    },
    {
      "cell_type": "code",
      "metadata": {
        "id": "iC0NlMvHzL1L",
        "colab": {
          "base_uri": "https://localhost:8080/"
        },
        "outputId": "6fe05f56-82ca-4645-93df-e681481b0a93"
      },
      "source": [
        "# Import modules \n",
        "import numpy as np  # a module for working with numerical array \n",
        "import pandas as pd  # a module for working with data-frames\n",
        "import statsmodels.api as sm  # a module for statistical modelling (e.g. regression analysis)"
      ],
      "execution_count": null,
      "outputs": [
        {
          "output_type": "stream",
          "name": "stderr",
          "text": [
            "/usr/local/lib/python3.7/dist-packages/statsmodels/tools/_testing.py:19: FutureWarning: pandas.util.testing is deprecated. Use the functions in the public API at pandas.testing instead.\n",
            "  import pandas.util.testing as tm\n"
          ]
        }
      ]
    },
    {
      "cell_type": "markdown",
      "metadata": {
        "id": "pGTS_zCRZGfV"
      },
      "source": [
        "First, we need to mount our local drive to the colab network"
      ]
    },
    {
      "cell_type": "code",
      "metadata": {
        "id": "RWSJpsyKqHjH",
        "colab": {
          "base_uri": "https://localhost:8080/"
        },
        "outputId": "5d304905-4df8-4fd8-e98a-77ebe1a56857"
      },
      "source": [
        "# Mount drive in google colab\n",
        "if run_in_colab:\n",
        "    from google.colab import drive\n",
        "    drive.mount('/content/drive')\n",
        "else:  # Set local path \n",
        "    data_path = \"C:/Users/Or Zuk/Google Drive/HUJI/Teaching/Lab_52568/Data/Elections/\"  \n"
      ],
      "execution_count": null,
      "outputs": [
        {
          "output_type": "stream",
          "name": "stdout",
          "text": [
            "Mounted at /content/drive\n"
          ]
        }
      ]
    },
    {
      "cell_type": "code",
      "metadata": {
        "id": "xaG-KYCw8XZz",
        "colab": {
          "resources": {
            "http://localhost:8080/nbextensions/google.colab/files.js": {
              "data": "Ly8gQ29weXJpZ2h0IDIwMTcgR29vZ2xlIExMQwovLwovLyBMaWNlbnNlZCB1bmRlciB0aGUgQXBhY2hlIExpY2Vuc2UsIFZlcnNpb24gMi4wICh0aGUgIkxpY2Vuc2UiKTsKLy8geW91IG1heSBub3QgdXNlIHRoaXMgZmlsZSBleGNlcHQgaW4gY29tcGxpYW5jZSB3aXRoIHRoZSBMaWNlbnNlLgovLyBZb3UgbWF5IG9idGFpbiBhIGNvcHkgb2YgdGhlIExpY2Vuc2UgYXQKLy8KLy8gICAgICBodHRwOi8vd3d3LmFwYWNoZS5vcmcvbGljZW5zZXMvTElDRU5TRS0yLjAKLy8KLy8gVW5sZXNzIHJlcXVpcmVkIGJ5IGFwcGxpY2FibGUgbGF3IG9yIGFncmVlZCB0byBpbiB3cml0aW5nLCBzb2Z0d2FyZQovLyBkaXN0cmlidXRlZCB1bmRlciB0aGUgTGljZW5zZSBpcyBkaXN0cmlidXRlZCBvbiBhbiAiQVMgSVMiIEJBU0lTLAovLyBXSVRIT1VUIFdBUlJBTlRJRVMgT1IgQ09ORElUSU9OUyBPRiBBTlkgS0lORCwgZWl0aGVyIGV4cHJlc3Mgb3IgaW1wbGllZC4KLy8gU2VlIHRoZSBMaWNlbnNlIGZvciB0aGUgc3BlY2lmaWMgbGFuZ3VhZ2UgZ292ZXJuaW5nIHBlcm1pc3Npb25zIGFuZAovLyBsaW1pdGF0aW9ucyB1bmRlciB0aGUgTGljZW5zZS4KCi8qKgogKiBAZmlsZW92ZXJ2aWV3IEhlbHBlcnMgZm9yIGdvb2dsZS5jb2xhYiBQeXRob24gbW9kdWxlLgogKi8KKGZ1bmN0aW9uKHNjb3BlKSB7CmZ1bmN0aW9uIHNwYW4odGV4dCwgc3R5bGVBdHRyaWJ1dGVzID0ge30pIHsKICBjb25zdCBlbGVtZW50ID0gZG9jdW1lbnQuY3JlYXRlRWxlbWVudCgnc3BhbicpOwogIGVsZW1lbnQudGV4dENvbnRlbnQgPSB0ZXh0OwogIGZvciAoY29uc3Qga2V5IG9mIE9iamVjdC5rZXlzKHN0eWxlQXR0cmlidXRlcykpIHsKICAgIGVsZW1lbnQuc3R5bGVba2V5XSA9IHN0eWxlQXR0cmlidXRlc1trZXldOwogIH0KICByZXR1cm4gZWxlbWVudDsKfQoKLy8gTWF4IG51bWJlciBvZiBieXRlcyB3aGljaCB3aWxsIGJlIHVwbG9hZGVkIGF0IGEgdGltZS4KY29uc3QgTUFYX1BBWUxPQURfU0laRSA9IDEwMCAqIDEwMjQ7CgpmdW5jdGlvbiBfdXBsb2FkRmlsZXMoaW5wdXRJZCwgb3V0cHV0SWQpIHsKICBjb25zdCBzdGVwcyA9IHVwbG9hZEZpbGVzU3RlcChpbnB1dElkLCBvdXRwdXRJZCk7CiAgY29uc3Qgb3V0cHV0RWxlbWVudCA9IGRvY3VtZW50LmdldEVsZW1lbnRCeUlkKG91dHB1dElkKTsKICAvLyBDYWNoZSBzdGVwcyBvbiB0aGUgb3V0cHV0RWxlbWVudCB0byBtYWtlIGl0IGF2YWlsYWJsZSBmb3IgdGhlIG5leHQgY2FsbAogIC8vIHRvIHVwbG9hZEZpbGVzQ29udGludWUgZnJvbSBQeXRob24uCiAgb3V0cHV0RWxlbWVudC5zdGVwcyA9IHN0ZXBzOwoKICByZXR1cm4gX3VwbG9hZEZpbGVzQ29udGludWUob3V0cHV0SWQpOwp9CgovLyBUaGlzIGlzIHJvdWdobHkgYW4gYXN5bmMgZ2VuZXJhdG9yIChub3Qgc3VwcG9ydGVkIGluIHRoZSBicm93c2VyIHlldCksCi8vIHdoZXJlIHRoZXJlIGFyZSBtdWx0aXBsZSBhc3luY2hyb25vdXMgc3RlcHMgYW5kIHRoZSBQeXRob24gc2lkZSBpcyBnb2luZwovLyB0byBwb2xsIGZvciBjb21wbGV0aW9uIG9mIGVhY2ggc3RlcC4KLy8gVGhpcyB1c2VzIGEgUHJvbWlzZSB0byBibG9jayB0aGUgcHl0aG9uIHNpZGUgb24gY29tcGxldGlvbiBvZiBlYWNoIHN0ZXAsCi8vIHRoZW4gcGFzc2VzIHRoZSByZXN1bHQgb2YgdGhlIHByZXZpb3VzIHN0ZXAgYXMgdGhlIGlucHV0IHRvIHRoZSBuZXh0IHN0ZXAuCmZ1bmN0aW9uIF91cGxvYWRGaWxlc0NvbnRpbnVlKG91dHB1dElkKSB7CiAgY29uc3Qgb3V0cHV0RWxlbWVudCA9IGRvY3VtZW50LmdldEVsZW1lbnRCeUlkKG91dHB1dElkKTsKICBjb25zdCBzdGVwcyA9IG91dHB1dEVsZW1lbnQuc3RlcHM7CgogIGNvbnN0IG5leHQgPSBzdGVwcy5uZXh0KG91dHB1dEVsZW1lbnQubGFzdFByb21pc2VWYWx1ZSk7CiAgcmV0dXJuIFByb21pc2UucmVzb2x2ZShuZXh0LnZhbHVlLnByb21pc2UpLnRoZW4oKHZhbHVlKSA9PiB7CiAgICAvLyBDYWNoZSB0aGUgbGFzdCBwcm9taXNlIHZhbHVlIHRvIG1ha2UgaXQgYXZhaWxhYmxlIHRvIHRoZSBuZXh0CiAgICAvLyBzdGVwIG9mIHRoZSBnZW5lcmF0b3IuCiAgICBvdXRwdXRFbGVtZW50Lmxhc3RQcm9taXNlVmFsdWUgPSB2YWx1ZTsKICAgIHJldHVybiBuZXh0LnZhbHVlLnJlc3BvbnNlOwogIH0pOwp9CgovKioKICogR2VuZXJhdG9yIGZ1bmN0aW9uIHdoaWNoIGlzIGNhbGxlZCBiZXR3ZWVuIGVhY2ggYXN5bmMgc3RlcCBvZiB0aGUgdXBsb2FkCiAqIHByb2Nlc3MuCiAqIEBwYXJhbSB7c3RyaW5nfSBpbnB1dElkIEVsZW1lbnQgSUQgb2YgdGhlIGlucHV0IGZpbGUgcGlja2VyIGVsZW1lbnQuCiAqIEBwYXJhbSB7c3RyaW5nfSBvdXRwdXRJZCBFbGVtZW50IElEIG9mIHRoZSBvdXRwdXQgZGlzcGxheS4KICogQHJldHVybiB7IUl0ZXJhYmxlPCFPYmplY3Q+fSBJdGVyYWJsZSBvZiBuZXh0IHN0ZXBzLgogKi8KZnVuY3Rpb24qIHVwbG9hZEZpbGVzU3RlcChpbnB1dElkLCBvdXRwdXRJZCkgewogIGNvbnN0IGlucHV0RWxlbWVudCA9IGRvY3VtZW50LmdldEVsZW1lbnRCeUlkKGlucHV0SWQpOwogIGlucHV0RWxlbWVudC5kaXNhYmxlZCA9IGZhbHNlOwoKICBjb25zdCBvdXRwdXRFbGVtZW50ID0gZG9jdW1lbnQuZ2V0RWxlbWVudEJ5SWQob3V0cHV0SWQpOwogIG91dHB1dEVsZW1lbnQuaW5uZXJIVE1MID0gJyc7CgogIGNvbnN0IHBpY2tlZFByb21pc2UgPSBuZXcgUHJvbWlzZSgocmVzb2x2ZSkgPT4gewogICAgaW5wdXRFbGVtZW50LmFkZEV2ZW50TGlzdGVuZXIoJ2NoYW5nZScsIChlKSA9PiB7CiAgICAgIHJlc29sdmUoZS50YXJnZXQuZmlsZXMpOwogICAgfSk7CiAgfSk7CgogIGNvbnN0IGNhbmNlbCA9IGRvY3VtZW50LmNyZWF0ZUVsZW1lbnQoJ2J1dHRvbicpOwogIGlucHV0RWxlbWVudC5wYXJlbnRFbGVtZW50LmFwcGVuZENoaWxkKGNhbmNlbCk7CiAgY2FuY2VsLnRleHRDb250ZW50ID0gJ0NhbmNlbCB1cGxvYWQnOwogIGNvbnN0IGNhbmNlbFByb21pc2UgPSBuZXcgUHJvbWlzZSgocmVzb2x2ZSkgPT4gewogICAgY2FuY2VsLm9uY2xpY2sgPSAoKSA9PiB7CiAgICAgIHJlc29sdmUobnVsbCk7CiAgICB9OwogIH0pOwoKICAvLyBXYWl0IGZvciB0aGUgdXNlciB0byBwaWNrIHRoZSBmaWxlcy4KICBjb25zdCBmaWxlcyA9IHlpZWxkIHsKICAgIHByb21pc2U6IFByb21pc2UucmFjZShbcGlja2VkUHJvbWlzZSwgY2FuY2VsUHJvbWlzZV0pLAogICAgcmVzcG9uc2U6IHsKICAgICAgYWN0aW9uOiAnc3RhcnRpbmcnLAogICAgfQogIH07CgogIGNhbmNlbC5yZW1vdmUoKTsKCiAgLy8gRGlzYWJsZSB0aGUgaW5wdXQgZWxlbWVudCBzaW5jZSBmdXJ0aGVyIHBpY2tzIGFyZSBub3QgYWxsb3dlZC4KICBpbnB1dEVsZW1lbnQuZGlzYWJsZWQgPSB0cnVlOwoKICBpZiAoIWZpbGVzKSB7CiAgICByZXR1cm4gewogICAgICByZXNwb25zZTogewogICAgICAgIGFjdGlvbjogJ2NvbXBsZXRlJywKICAgICAgfQogICAgfTsKICB9CgogIGZvciAoY29uc3QgZmlsZSBvZiBmaWxlcykgewogICAgY29uc3QgbGkgPSBkb2N1bWVudC5jcmVhdGVFbGVtZW50KCdsaScpOwogICAgbGkuYXBwZW5kKHNwYW4oZmlsZS5uYW1lLCB7Zm9udFdlaWdodDogJ2JvbGQnfSkpOwogICAgbGkuYXBwZW5kKHNwYW4oCiAgICAgICAgYCgke2ZpbGUudHlwZSB8fCAnbi9hJ30pIC0gJHtmaWxlLnNpemV9IGJ5dGVzLCBgICsKICAgICAgICBgbGFzdCBtb2RpZmllZDogJHsKICAgICAgICAgICAgZmlsZS5sYXN0TW9kaWZpZWREYXRlID8gZmlsZS5sYXN0TW9kaWZpZWREYXRlLnRvTG9jYWxlRGF0ZVN0cmluZygpIDoKICAgICAgICAgICAgICAgICAgICAgICAgICAgICAgICAgICAgJ24vYSd9IC0gYCkpOwogICAgY29uc3QgcGVyY2VudCA9IHNwYW4oJzAlIGRvbmUnKTsKICAgIGxpLmFwcGVuZENoaWxkKHBlcmNlbnQpOwoKICAgIG91dHB1dEVsZW1lbnQuYXBwZW5kQ2hpbGQobGkpOwoKICAgIGNvbnN0IGZpbGVEYXRhUHJvbWlzZSA9IG5ldyBQcm9taXNlKChyZXNvbHZlKSA9PiB7CiAgICAgIGNvbnN0IHJlYWRlciA9IG5ldyBGaWxlUmVhZGVyKCk7CiAgICAgIHJlYWRlci5vbmxvYWQgPSAoZSkgPT4gewogICAgICAgIHJlc29sdmUoZS50YXJnZXQucmVzdWx0KTsKICAgICAgfTsKICAgICAgcmVhZGVyLnJlYWRBc0FycmF5QnVmZmVyKGZpbGUpOwogICAgfSk7CiAgICAvLyBXYWl0IGZvciB0aGUgZGF0YSB0byBiZSByZWFkeS4KICAgIGxldCBmaWxlRGF0YSA9IHlpZWxkIHsKICAgICAgcHJvbWlzZTogZmlsZURhdGFQcm9taXNlLAogICAgICByZXNwb25zZTogewogICAgICAgIGFjdGlvbjogJ2NvbnRpbnVlJywKICAgICAgfQogICAgfTsKCiAgICAvLyBVc2UgYSBjaHVua2VkIHNlbmRpbmcgdG8gYXZvaWQgbWVzc2FnZSBzaXplIGxpbWl0cy4gU2VlIGIvNjIxMTU2NjAuCiAgICBsZXQgcG9zaXRpb24gPSAwOwogICAgZG8gewogICAgICBjb25zdCBsZW5ndGggPSBNYXRoLm1pbihmaWxlRGF0YS5ieXRlTGVuZ3RoIC0gcG9zaXRpb24sIE1BWF9QQVlMT0FEX1NJWkUpOwogICAgICBjb25zdCBjaHVuayA9IG5ldyBVaW50OEFycmF5KGZpbGVEYXRhLCBwb3NpdGlvbiwgbGVuZ3RoKTsKICAgICAgcG9zaXRpb24gKz0gbGVuZ3RoOwoKICAgICAgY29uc3QgYmFzZTY0ID0gYnRvYShTdHJpbmcuZnJvbUNoYXJDb2RlLmFwcGx5KG51bGwsIGNodW5rKSk7CiAgICAgIHlpZWxkIHsKICAgICAgICByZXNwb25zZTogewogICAgICAgICAgYWN0aW9uOiAnYXBwZW5kJywKICAgICAgICAgIGZpbGU6IGZpbGUubmFtZSwKICAgICAgICAgIGRhdGE6IGJhc2U2NCwKICAgICAgICB9LAogICAgICB9OwoKICAgICAgbGV0IHBlcmNlbnREb25lID0gZmlsZURhdGEuYnl0ZUxlbmd0aCA9PT0gMCA/CiAgICAgICAgICAxMDAgOgogICAgICAgICAgTWF0aC5yb3VuZCgocG9zaXRpb24gLyBmaWxlRGF0YS5ieXRlTGVuZ3RoKSAqIDEwMCk7CiAgICAgIHBlcmNlbnQudGV4dENvbnRlbnQgPSBgJHtwZXJjZW50RG9uZX0lIGRvbmVgOwoKICAgIH0gd2hpbGUgKHBvc2l0aW9uIDwgZmlsZURhdGEuYnl0ZUxlbmd0aCk7CiAgfQoKICAvLyBBbGwgZG9uZS4KICB5aWVsZCB7CiAgICByZXNwb25zZTogewogICAgICBhY3Rpb246ICdjb21wbGV0ZScsCiAgICB9CiAgfTsKfQoKc2NvcGUuZ29vZ2xlID0gc2NvcGUuZ29vZ2xlIHx8IHt9OwpzY29wZS5nb29nbGUuY29sYWIgPSBzY29wZS5nb29nbGUuY29sYWIgfHwge307CnNjb3BlLmdvb2dsZS5jb2xhYi5fZmlsZXMgPSB7CiAgX3VwbG9hZEZpbGVzLAogIF91cGxvYWRGaWxlc0NvbnRpbnVlLAp9Owp9KShzZWxmKTsK",
              "ok": true,
              "headers": [
                [
                  "content-type",
                  "application/javascript"
                ]
              ],
              "status": 200,
              "status_text": ""
            }
          },
          "base_uri": "https://localhost:8080/",
          "height": 143
        },
        "outputId": "c65d1c63-040c-410c-bae5-d2c67da0aab3"
      },
      "source": [
        "# Loading elections 2021 elections data:\n",
        "if run_in_colab:\n",
        "    from google.colab import files\n",
        "    uploaded = files.upload()"
      ],
      "execution_count": null,
      "outputs": [
        {
          "output_type": "display_data",
          "data": {
            "text/html": [
              "\n",
              "     <input type=\"file\" id=\"files-36a51303-f5db-4972-8a9b-7dd80398e5f2\" name=\"files[]\" multiple disabled\n",
              "        style=\"border:none\" />\n",
              "     <output id=\"result-36a51303-f5db-4972-8a9b-7dd80398e5f2\">\n",
              "      Upload widget is only available when the cell has been executed in the\n",
              "      current browser session. Please rerun this cell to enable.\n",
              "      </output>\n",
              "      <script src=\"/nbextensions/google.colab/files.js\"></script> "
            ],
            "text/plain": [
              "<IPython.core.display.HTML object>"
            ]
          },
          "metadata": {}
        },
        {
          "output_type": "stream",
          "name": "stdout",
          "text": [
            "Saving eshkol_hevrati_calcali.csv to eshkol_hevrati_calcali.csv\n",
            "Saving votes per ballot 2021.csv to votes per ballot 2021.csv\n",
            "Saving votes per city 2021.csv to votes per city 2021.csv\n"
          ]
        }
      ]
    },
    {
      "cell_type": "code",
      "metadata": {
        "id": "QxK5YlBH1geD"
      },
      "source": [
        "import io\n",
        "\n",
        "data_type = \"city\" # \"ballot\"  # city\n",
        "if   run_in_colab:\n",
        "    df_2021_raw = pd.read_csv(io.BytesIO(uploaded['votes per city 2021.csv']),  encoding = 'iso-8859-8', index_col='שם ישוב')\n",
        "else:  # read local file\n",
        "    if data_type == \"ballot\":\n",
        "        df_2021_raw = pd.read_csv(data_path + 'votes per ballot 2021.csv',  encoding = 'iso-8859-8', index_col='שם ישוב')\n",
        "        # preprocessing of ballot\n",
        "        df_2021 = df_2021_raw.drop('סמל ועדה', axis=1) # new column added in Sep 2019\n",
        "        df_2021 = df_2021[df_2021.columns[8:-1]] # removing \"metadata\" columns\n",
        "    else:\n",
        "        df_2021_raw = pd.read_csv(data_path + 'votes per city 2021.csv',  encoding = 'iso-8859-8', index_col='שם ישוב')\n",
        "        # preprocessing of cities \n",
        "        df_2021 = df_2021_raw.drop('סמל ועדה', axis=1) # new column added in Sep 2019\n",
        "        df_2021 = df_2021[df_2021.columns[5:-1]] # removing \"metadata\" columns\n",
        "# Dataset is now stored in a Pandas Dataframe"
      ],
      "execution_count": null,
      "outputs": []
    },
    {
      "cell_type": "code",
      "metadata": {
        "id": "PVfhjKgS16sL",
        "colab": {
          "base_uri": "https://localhost:8080/"
        },
        "outputId": "c2546f68-aa86-4517-f976-65df5c9b2194"
      },
      "source": [
        "df_2021 = df_2021_raw.drop('סמל ועדה', axis=1) # new column added in Sep 2019\n",
        "df_2021 = df_2021[df_2021.columns[5:-1]] # removing \"metadata\" columns\n",
        "print(\"{} votes in March 2021\".format(df_2021_raw['כשרים']['מעטפות חיצוניות']) + ' מעטפות חיצוניות ')"
      ],
      "execution_count": null,
      "outputs": [
        {
          "output_type": "stream",
          "name": "stdout",
          "text": [
            "421619 votes in March 2021 מעטפות חיצוניות \n"
          ]
        }
      ]
    },
    {
      "cell_type": "code",
      "metadata": {
        "id": "WkA-6k1q--vR",
        "colab": {
          "base_uri": "https://localhost:8080/",
          "height": 237
        },
        "outputId": "75ca92df-fafa-49b0-e271-c396fd79f7b0"
      },
      "source": [
        "# df_2021.reset_index(inplace=True)\n",
        "df_2021.style.set_properties(**{'text-align': 'left'})\n",
        "df_2021.head()"
      ],
      "execution_count": null,
      "outputs": [
        {
          "output_type": "execute_result",
          "data": {
            "text/html": [
              "<div>\n",
              "<style scoped>\n",
              "    .dataframe tbody tr th:only-of-type {\n",
              "        vertical-align: middle;\n",
              "    }\n",
              "\n",
              "    .dataframe tbody tr th {\n",
              "        vertical-align: top;\n",
              "    }\n",
              "\n",
              "    .dataframe thead th {\n",
              "        text-align: right;\n",
              "    }\n",
              "</style>\n",
              "<table border=\"1\" class=\"dataframe\">\n",
              "  <thead>\n",
              "    <tr style=\"text-align: right;\">\n",
              "      <th></th>\n",
              "      <th>אמת</th>\n",
              "      <th>ב</th>\n",
              "      <th>ג</th>\n",
              "      <th>ודעם</th>\n",
              "      <th>ז</th>\n",
              "      <th>זץ</th>\n",
              "      <th>ט</th>\n",
              "      <th>י</th>\n",
              "      <th>יז</th>\n",
              "      <th>ינ</th>\n",
              "      <th>יף</th>\n",
              "      <th>יק</th>\n",
              "      <th>יר</th>\n",
              "      <th>כ</th>\n",
              "      <th>כך</th>\n",
              "      <th>כן</th>\n",
              "      <th>ל</th>\n",
              "      <th>מחל</th>\n",
              "      <th>מרצ</th>\n",
              "      <th>נ</th>\n",
              "      <th>ני</th>\n",
              "      <th>נר</th>\n",
              "      <th>עם</th>\n",
              "      <th>פה</th>\n",
              "      <th>ףז</th>\n",
              "      <th>צי</th>\n",
              "      <th>צכ</th>\n",
              "      <th>צף</th>\n",
              "      <th>ץ</th>\n",
              "      <th>ק</th>\n",
              "      <th>קי</th>\n",
              "      <th>קך</th>\n",
              "      <th>קץ</th>\n",
              "      <th>ר</th>\n",
              "      <th>רנ</th>\n",
              "      <th>רף</th>\n",
              "      <th>רק</th>\n",
              "      <th>שס</th>\n",
              "      <th>ת</th>\n",
              "    </tr>\n",
              "    <tr>\n",
              "      <th>שם ישוב</th>\n",
              "      <th></th>\n",
              "      <th></th>\n",
              "      <th></th>\n",
              "      <th></th>\n",
              "      <th></th>\n",
              "      <th></th>\n",
              "      <th></th>\n",
              "      <th></th>\n",
              "      <th></th>\n",
              "      <th></th>\n",
              "      <th></th>\n",
              "      <th></th>\n",
              "      <th></th>\n",
              "      <th></th>\n",
              "      <th></th>\n",
              "      <th></th>\n",
              "      <th></th>\n",
              "      <th></th>\n",
              "      <th></th>\n",
              "      <th></th>\n",
              "      <th></th>\n",
              "      <th></th>\n",
              "      <th></th>\n",
              "      <th></th>\n",
              "      <th></th>\n",
              "      <th></th>\n",
              "      <th></th>\n",
              "      <th></th>\n",
              "      <th></th>\n",
              "      <th></th>\n",
              "      <th></th>\n",
              "      <th></th>\n",
              "      <th></th>\n",
              "      <th></th>\n",
              "      <th></th>\n",
              "      <th></th>\n",
              "      <th></th>\n",
              "      <th></th>\n",
              "      <th></th>\n",
              "    </tr>\n",
              "  </thead>\n",
              "  <tbody>\n",
              "    <tr>\n",
              "      <th>אבירים</th>\n",
              "      <td>47</td>\n",
              "      <td>0</td>\n",
              "      <td>0</td>\n",
              "      <td>3</td>\n",
              "      <td>0</td>\n",
              "      <td>0</td>\n",
              "      <td>2</td>\n",
              "      <td>0</td>\n",
              "      <td>3</td>\n",
              "      <td>0</td>\n",
              "      <td>0</td>\n",
              "      <td>0</td>\n",
              "      <td>0</td>\n",
              "      <td>0</td>\n",
              "      <td>0</td>\n",
              "      <td>16</td>\n",
              "      <td>2</td>\n",
              "      <td>5</td>\n",
              "      <td>31</td>\n",
              "      <td>0</td>\n",
              "      <td>0</td>\n",
              "      <td>0</td>\n",
              "      <td>0</td>\n",
              "      <td>27</td>\n",
              "      <td>0</td>\n",
              "      <td>0</td>\n",
              "      <td>0</td>\n",
              "      <td>0</td>\n",
              "      <td>0</td>\n",
              "      <td>0</td>\n",
              "      <td>0</td>\n",
              "      <td>0</td>\n",
              "      <td>0</td>\n",
              "      <td>5</td>\n",
              "      <td>0</td>\n",
              "      <td>0</td>\n",
              "      <td>0</td>\n",
              "      <td>1</td>\n",
              "      <td>8</td>\n",
              "    </tr>\n",
              "    <tr>\n",
              "      <th>אדירים</th>\n",
              "      <td>1</td>\n",
              "      <td>7</td>\n",
              "      <td>4</td>\n",
              "      <td>0</td>\n",
              "      <td>0</td>\n",
              "      <td>0</td>\n",
              "      <td>9</td>\n",
              "      <td>0</td>\n",
              "      <td>1</td>\n",
              "      <td>0</td>\n",
              "      <td>0</td>\n",
              "      <td>0</td>\n",
              "      <td>0</td>\n",
              "      <td>0</td>\n",
              "      <td>0</td>\n",
              "      <td>3</td>\n",
              "      <td>0</td>\n",
              "      <td>84</td>\n",
              "      <td>0</td>\n",
              "      <td>0</td>\n",
              "      <td>0</td>\n",
              "      <td>0</td>\n",
              "      <td>0</td>\n",
              "      <td>2</td>\n",
              "      <td>0</td>\n",
              "      <td>0</td>\n",
              "      <td>0</td>\n",
              "      <td>0</td>\n",
              "      <td>0</td>\n",
              "      <td>0</td>\n",
              "      <td>0</td>\n",
              "      <td>0</td>\n",
              "      <td>0</td>\n",
              "      <td>2</td>\n",
              "      <td>0</td>\n",
              "      <td>0</td>\n",
              "      <td>0</td>\n",
              "      <td>61</td>\n",
              "      <td>6</td>\n",
              "    </tr>\n",
              "    <tr>\n",
              "      <th>אושה</th>\n",
              "      <td>72</td>\n",
              "      <td>7</td>\n",
              "      <td>0</td>\n",
              "      <td>3</td>\n",
              "      <td>0</td>\n",
              "      <td>0</td>\n",
              "      <td>0</td>\n",
              "      <td>0</td>\n",
              "      <td>2</td>\n",
              "      <td>0</td>\n",
              "      <td>0</td>\n",
              "      <td>1</td>\n",
              "      <td>0</td>\n",
              "      <td>0</td>\n",
              "      <td>0</td>\n",
              "      <td>37</td>\n",
              "      <td>8</td>\n",
              "      <td>24</td>\n",
              "      <td>20</td>\n",
              "      <td>0</td>\n",
              "      <td>0</td>\n",
              "      <td>0</td>\n",
              "      <td>0</td>\n",
              "      <td>86</td>\n",
              "      <td>0</td>\n",
              "      <td>0</td>\n",
              "      <td>0</td>\n",
              "      <td>0</td>\n",
              "      <td>0</td>\n",
              "      <td>0</td>\n",
              "      <td>0</td>\n",
              "      <td>0</td>\n",
              "      <td>0</td>\n",
              "      <td>1</td>\n",
              "      <td>0</td>\n",
              "      <td>0</td>\n",
              "      <td>0</td>\n",
              "      <td>0</td>\n",
              "      <td>15</td>\n",
              "    </tr>\n",
              "    <tr>\n",
              "      <th>אחווה</th>\n",
              "      <td>14</td>\n",
              "      <td>4</td>\n",
              "      <td>0</td>\n",
              "      <td>0</td>\n",
              "      <td>0</td>\n",
              "      <td>0</td>\n",
              "      <td>4</td>\n",
              "      <td>0</td>\n",
              "      <td>0</td>\n",
              "      <td>0</td>\n",
              "      <td>0</td>\n",
              "      <td>0</td>\n",
              "      <td>0</td>\n",
              "      <td>0</td>\n",
              "      <td>0</td>\n",
              "      <td>36</td>\n",
              "      <td>3</td>\n",
              "      <td>27</td>\n",
              "      <td>10</td>\n",
              "      <td>0</td>\n",
              "      <td>0</td>\n",
              "      <td>0</td>\n",
              "      <td>0</td>\n",
              "      <td>37</td>\n",
              "      <td>0</td>\n",
              "      <td>0</td>\n",
              "      <td>0</td>\n",
              "      <td>0</td>\n",
              "      <td>0</td>\n",
              "      <td>0</td>\n",
              "      <td>0</td>\n",
              "      <td>0</td>\n",
              "      <td>0</td>\n",
              "      <td>0</td>\n",
              "      <td>0</td>\n",
              "      <td>0</td>\n",
              "      <td>0</td>\n",
              "      <td>2</td>\n",
              "      <td>8</td>\n",
              "    </tr>\n",
              "    <tr>\n",
              "      <th>איבים</th>\n",
              "      <td>0</td>\n",
              "      <td>4</td>\n",
              "      <td>0</td>\n",
              "      <td>0</td>\n",
              "      <td>0</td>\n",
              "      <td>1</td>\n",
              "      <td>10</td>\n",
              "      <td>0</td>\n",
              "      <td>0</td>\n",
              "      <td>0</td>\n",
              "      <td>0</td>\n",
              "      <td>0</td>\n",
              "      <td>0</td>\n",
              "      <td>0</td>\n",
              "      <td>0</td>\n",
              "      <td>5</td>\n",
              "      <td>0</td>\n",
              "      <td>17</td>\n",
              "      <td>0</td>\n",
              "      <td>0</td>\n",
              "      <td>0</td>\n",
              "      <td>1</td>\n",
              "      <td>0</td>\n",
              "      <td>0</td>\n",
              "      <td>0</td>\n",
              "      <td>0</td>\n",
              "      <td>0</td>\n",
              "      <td>0</td>\n",
              "      <td>0</td>\n",
              "      <td>0</td>\n",
              "      <td>0</td>\n",
              "      <td>1</td>\n",
              "      <td>0</td>\n",
              "      <td>0</td>\n",
              "      <td>0</td>\n",
              "      <td>0</td>\n",
              "      <td>0</td>\n",
              "      <td>1</td>\n",
              "      <td>0</td>\n",
              "    </tr>\n",
              "  </tbody>\n",
              "</table>\n",
              "</div>"
            ],
            "text/plain": [
              "         אמת  ב  ג  ודעם  ז  זץ   ט  י  יז  ...  קי  קך  קץ  ר  רנ  רף  רק  שס   ת\n",
              "שם ישוב                                     ...                                   \n",
              "אבירים    47  0  0     3  0   0   2  0   3  ...   0   0   0  5   0   0   0   1   8\n",
              "אדירים     1  7  4     0  0   0   9  0   1  ...   0   0   0  2   0   0   0  61   6\n",
              "אושה      72  7  0     3  0   0   0  0   2  ...   0   0   0  1   0   0   0   0  15\n",
              "אחווה     14  4  0     0  0   0   4  0   0  ...   0   0   0  0   0   0   0   2   8\n",
              "איבים      0  4  0     0  0   1  10  0   0  ...   0   1   0  0   0   0   0   1   0\n",
              "\n",
              "[5 rows x 39 columns]"
            ]
          },
          "metadata": {},
          "execution_count": 8
        }
      ]
    },
    {
      "cell_type": "code",
      "metadata": {
        "id": "870LcQWgv2OB"
      },
      "source": [
        "from matplotlib import pyplot as plt\n"
      ],
      "execution_count": null,
      "outputs": []
    },
    {
      "cell_type": "code",
      "metadata": {
        "id": "gvcZSFcX_w49"
      },
      "source": [
        "# Compute votes share only for parties above a certain threshold \n",
        "def parties_votes_percents(df, thresh):\n",
        "    par = df.sum().div(df.sum().sum()).sort_values(ascending=False)\n",
        "    return par[par > thresh]\n",
        "\n",
        "total_votes = parties_votes_percents(df_2021, 0.001)  # total votes for each party"
      ],
      "execution_count": null,
      "outputs": []
    },
    {
      "cell_type": "markdown",
      "metadata": {
        "id": "mj2x1vMkHPVp"
      },
      "source": [
        "Create a dictionary mapping parties names to voting letters"
      ]
    },
    {
      "cell_type": "code",
      "metadata": {
        "id": "dxBOht75HPVp"
      },
      "source": [
        "parties_dict_2021 ={'אמת' : \"עבודה\", 'מרצ' : \"מרצ\",  'ג' : \"יהדות התורה\", 'עם'  : \"רעם\",  'ת'  : \"תקוה חדשה\", 'ודעם'  : \"הרשימה המשותפת\", 'ב'  : \"ימינה\", 'ט'  : \"הציונות הדתית\",\n",
        " 'ל'  : \"ישראל ביתנו\", 'מחל'  : \"הליכוד\",  'פה'  : \"יש עתיד\", 'כן'  : \"כחול לבן\", 'שס'  : \"שס\"}\n"
      ],
      "execution_count": null,
      "outputs": []
    },
    {
      "cell_type": "markdown",
      "metadata": {
        "id": "qdK2WrN5HPVq"
      },
      "source": [
        "Read the election results by ballot (not city)"
      ]
    },
    {
      "cell_type": "code",
      "metadata": {
        "id": "3o0FXqu_HPVq"
      },
      "source": [
        "if   run_in_colab:\n",
        "    df_2021_ballots_raw = pd.read_csv(io.BytesIO(uploaded['votes per ballot 2021.csv']),  encoding = 'iso-8859-8', index_col='שם ישוב')\n",
        "else:\n",
        "  df_2021_ballots_raw = pd.read_csv(data_path + 'votes per ballot 2021.csv',  encoding = 'iso-8859-8', index_col='שם ישוב')  # need to read locally"
      ],
      "execution_count": null,
      "outputs": []
    },
    {
      "cell_type": "code",
      "metadata": {
        "id": "x9cWw2gjHPVq"
      },
      "source": [
        "df_2021_ballots = df_2021_ballots_raw.drop('סמל ועדה', axis=1) # new column added in Sep 2019\n",
        "df_2021_ballots = df_2021_ballots[df_2021_ballots.columns[8:-1]] # removing \"metadata\" columns\n",
        "df_2021_ballots_raw = df_2021_ballots_raw.drop(index = \"מעטפות חיצוניות\")\n",
        "df_2021_ballots= df_2021_ballots.drop(index = \"מעטפות חיצוניות\")\n",
        "df_2021_ballots = df_2021_ballots[parties_dict_2021.keys()]"
      ],
      "execution_count": null,
      "outputs": []
    },
    {
      "cell_type": "code",
      "metadata": {
        "id": "eN9KuhzmHPVr"
      },
      "source": [
        "# Make corrections to the votes \n",
        "# Correct for voting turnout in cities/ballots (from lab2)\n",
        "# df - matrix of voters for each party and each city\n",
        "# v - vector of total bz\"b for each city \n",
        "# Assume that for each city, the proportion for each party is the same fofr voters and non-voters\n",
        "def simple_turnout_correction(df, v):\n",
        "    p = df.sum().div(df.sum().sum())  # votes without correction\n",
        "    exp_df = pd.DataFrame().reindex_like(df)\n",
        "    if v.size == df.shape[0]:\n",
        "        v_mat = pd.concat([alpha] * (df.shape[1]), axis=1)\n",
        "        exp_df = np.random.binomial(df,v_mat)\n",
        "    elif v.size == df.shape[1]:\n",
        "        v_mat = pd.DataFrame([v]*(df.shape[0]))\n",
        "        exp_df = np.random.binomial(df,v_mat)\n",
        "    else:\n",
        "        v_mat = v\n",
        "        exp_df = np.random.binomial(df,v_mat)\n",
        "    # q_hat = ...\n",
        "    return pd.DataFrame(exp_df,columns=df.columns,index = df.index)"
      ],
      "execution_count": null,
      "outputs": []
    },
    {
      "cell_type": "code",
      "metadata": {
        "id": "FCknQWUzqqem"
      },
      "source": [
        "bazab = df_2021_ballots_raw[\"בזב\"]\n",
        "kosher = df_2021_ballots_raw[\"כשרים\"]\n",
        "normalized_vec = bazab/kosher\n",
        "alpha = kosher / bazab\n",
        "\n",
        "n_tilda_df = df_2021_ballots.mul(normalized_vec,axis = 0).round()\n",
        "n_tilda_df_2 = n_tilda_df[parties_dict_2021.keys()]\n",
        "n_ij = n_tilda_df_2.sum().div(n_tilda_df_2.sum().sum())"
      ],
      "execution_count": null,
      "outputs": []
    },
    {
      "cell_type": "code",
      "metadata": {
        "id": "MZJSk8nyrOhR"
      },
      "source": [
        "beta = np.linspace(0.2, 0.8, num=13)"
      ],
      "execution_count": null,
      "outputs": []
    },
    {
      "cell_type": "code",
      "metadata": {
        "id": "WmLnGh2SrR7H"
      },
      "source": [
        "beta_2 = np.random.permutation(beta)\n",
        "for i in range(df_2021_ballots.shape[0]-1):\n",
        "    beta_rnd = np.random.permutation(beta)\n",
        "    beta_2 = np.vstack((beta_2,beta_rnd))"
      ],
      "execution_count": null,
      "outputs": []
    },
    {
      "cell_type": "code",
      "metadata": {
        "id": "_IE7E0UvrWA6"
      },
      "source": [
        "rand_matrix = pd.DataFrame(beta_2)"
      ],
      "execution_count": null,
      "outputs": []
    },
    {
      "cell_type": "code",
      "metadata": {
        "id": "fXCJih9FrcOA"
      },
      "source": [
        "def simulation(num_simu,df,v):\n",
        "    df_estimators = pd.DataFrame(columns = df.columns)\n",
        "    df_qj_hat  = pd.DataFrame(columns = df.columns)\n",
        "    for i in range(num_simu):\n",
        "        simu_df = simple_turnout_correction(df,v)\n",
        "        norm_df = simu_df.mul(normalized_vec,axis = 0)\n",
        "        p_j = simu_df.sum().div(simu_df.sum().sum())\n",
        "        q_j_hat = norm_df.sum().div(norm_df.sum().sum())\n",
        "        df_pj_estimators = df_estimators.append(p_j,ignore_index=True)\n",
        "        df_qj_hat = df_qj_hat.append(q_j_hat,ignore_index=True)\n",
        "    return df_pj_estimators,df_qj_hat"
      ],
      "execution_count": null,
      "outputs": []
    },
    {
      "cell_type": "code",
      "metadata": {
        "id": "dOumTS5Srgpd"
      },
      "source": [
        "p_j_alpha,q_j_alpha = simulation(50,n_tilda_df,alpha)\n",
        "p_j_beta,q_j_beta = simulation(50,n_tilda_df,beta)\n",
        "p_j_beta2,q_j_beta2 = simulation(50,n_tilda_df,beta_2)"
      ],
      "execution_count": null,
      "outputs": []
    },
    {
      "cell_type": "code",
      "metadata": {
        "id": "J0BiOt4Urplb"
      },
      "source": [
        "e_qj_a = q_j_alpha.mean()\n",
        "e_pj_a = p_j_alpha.mean()\n",
        "e_qj_b = q_j_beta.mean()\n",
        "e_pj_b = p_j_beta.mean()\n",
        "e_qj_b2 = q_j_beta2.mean()\n",
        "e_pj_b2 = p_j_beta2.mean()"
      ],
      "execution_count": null,
      "outputs": []
    },
    {
      "cell_type": "code",
      "metadata": {
        "id": "RE_B0bEhAUlx"
      },
      "source": [
        "bias_1 = q_j_alpha.mean(axis=0) - n_ij\n",
        "bias_2 = q_j_beta.mean(axis=0) - n_ij\n",
        "bias_3 = q_j_beta2.mean(axis=0) - n_ij"
      ],
      "execution_count": null,
      "outputs": []
    },
    {
      "cell_type": "code",
      "metadata": {
        "id": "kyDoszPTAQtI"
      },
      "source": [
        "mse_1 = q_j_alpha.var() + bias_1**2\n",
        "mse_2 = q_j_beta.var() + bias_2**2\n",
        "mse_3 = q_j_beta2.var() + bias_3**2"
      ],
      "execution_count": null,
      "outputs": []
    },
    {
      "cell_type": "markdown",
      "metadata": {
        "id": "GiOPiLpYUMS6"
      },
      "source": [
        "# Solution\n",
        "\n",
        "# 4\n",
        "\n",
        "# 1\n",
        "\n",
        "# a + b"
      ]
    },
    {
      "cell_type": "code",
      "metadata": {
        "id": "t1n_N--eURX2"
      },
      "source": [
        "def reg_ols(df):\n",
        "    model = sm.OLS(bazab,df).fit()\n",
        "    betas_opp = model.params\n",
        "    n_ij_tilda = df.mul(betas_opp,axis=1)\n",
        "    q_hat = n_ij_tilda.sum().div(n_ij_tilda.sum().sum())\n",
        "    return q_hat"
      ],
      "execution_count": null,
      "outputs": []
    },
    {
      "cell_type": "markdown",
      "metadata": {
        "id": "nLgEQbfRz2jr"
      },
      "source": [
        "# 2"
      ]
    },
    {
      "cell_type": "code",
      "metadata": {
        "id": "9MZOb4elz78s"
      },
      "source": [
        "qja_alp = reg_ols(simple_turnout_correction(n_tilda_df,alpha))\n",
        "qjb = reg_ols(simple_turnout_correction(n_tilda_df,beta))\n",
        "qjb_2 = reg_ols(simple_turnout_correction(n_tilda_df,beta_2))"
      ],
      "execution_count": null,
      "outputs": []
    },
    {
      "cell_type": "code",
      "metadata": {
        "id": "rxfKoSQC0lCA",
        "colab": {
          "base_uri": "https://localhost:8080/",
          "height": 886
        },
        "outputId": "5b331804-f94e-4c98-fe25-6585597500aa"
      },
      "source": [
        "def bar_plot_reg(qj, pj_i, q_j_hat ,q_reg):\n",
        "    width = 0.2\n",
        "    n = 13\n",
        "    rev_names = [name[::-1] for name in list(n_tilda_df_2)]\n",
        "    x_pos = np.arange(len(rev_names))\n",
        "    fig, ax = plt.subplots()\n",
        "\n",
        "    qj_bar = ax.bar(np.arange(n), list(qj), width, color='b')\n",
        "    qj_i_bar = ax.bar(np.arange(n)+width, pj_i, width, color='r',yerr = pj_i.std(), align='center', capsize=10,ecolor='black',error_kw=dict(lw=1, capsize=1, capthick=1))\n",
        "    p_j_bar = ax.bar(np.arange(n)+2*width, q_j_hat, width, color='g',yerr = q_j_hat.std(), align='center',capsize=10,ecolor='black',error_kw=dict(lw=1, capsize=1, capthick=1))\n",
        "    q_reg_bar = ax.bar(np.arange(n)+3*width, q_reg, width, color='orange',yerr = q_reg.std(), align='center',capsize=10,ecolor='black',error_kw=dict(lw=1, capsize=1, capthick=1))\n",
        "\n",
        "    ax.set_ylabel('Votes percent')\n",
        "    ax.set_xlabel('Parties Names')\n",
        "    ax.set_title('Simulations bar plot + error bars')\n",
        "    ax.set_xticks(np.arange(n))\n",
        "    ax.set_xticklabels(rev_names)\n",
        "    ax.legend((qj_bar, qj_i_bar, p_j_bar, q_reg_bar), ('qj', 'q_j_i', 'p_j', 'q_reg'))\n",
        "    ax.yaxis.grid(True)\n",
        "    # ax.errorbar(elinewidth=1)\n",
        "    plt.show()\n",
        "\n",
        "\n",
        "    return fig, ax\n",
        "\n",
        "\n",
        "bar_plot_reg(n_ij, e_pj_a, e_qj_a,qja_alp)\n",
        "bar_plot_reg(n_ij, e_pj_b, e_qj_b,qjb)\n",
        "bar_plot_reg(n_ij, e_pj_b2, e_qj_b2,qjb_2)"
      ],
      "execution_count": null,
      "outputs": [
        {
          "output_type": "display_data",
          "data": {
            "image/png": "[encoded data removed]",
            "text/plain": [
              "<Figure size 432x288 with 1 Axes>"
            ]
          },
          "metadata": {
            "needs_background": "light"
          }
        },
        {
          "output_type": "display_data",
          "data": {
            "image/png": "[encoded data removed]",
            "text/plain": [
              "<Figure size 432x288 with 1 Axes>"
            ]
          },
          "metadata": {
            "needs_background": "light"
          }
        },
        {
          "output_type": "display_data",
          "data": {
            "image/png": "[encoded data removed]",
            "text/plain": [
              "<Figure size 432x288 with 1 Axes>"
            ]
          },
          "metadata": {
            "needs_background": "light"
          }
        },
        {
          "output_type": "execute_result",
          "data": {
            "text/plain": [
              "(<Figure size 432x288 with 1 Axes>,\n",
              " <matplotlib.axes._subplots.AxesSubplot at 0x7fa24de866d0>)"
            ]
          },
          "metadata": {},
          "execution_count": 32
        }
      ]
    },
    {
      "cell_type": "markdown",
      "metadata": {
        "id": "Wn9nwQm8XrAo"
      },
      "source": [
        "from the graphs we can see that using the correction from lab 3 is much better for a city/ballot calculation. On the other hand, for the other 2 calculations the new correction (from lab 4) is better. \n",
        "In conclusion, if we think that the probality of a voter to vote depends only on the patry that he votes to, then the new correction is the best.\n",
        "And if we think that the probality of a voter to vote depends on his city/ballot then we will use the old correction.\n",
        "\n"
      ]
    },
    {
      "cell_type": "markdown",
      "metadata": {
        "id": "NNdxN_vNAwYX"
      },
      "source": [
        "# 3"
      ]
    },
    {
      "cell_type": "code",
      "metadata": {
        "id": "idxpvVhQI_LD",
        "colab": {
          "base_uri": "https://localhost:8080/",
          "height": 327
        },
        "outputId": "39fb8754-f818-4115-f0bb-5dbfada064d0"
      },
      "source": [
        "df_2021_eshkol = pd.read_csv(io.BytesIO(uploaded['eshkol_hevrati_calcali.csv']),  encoding = 'iso-8859-8')\n",
        "check_merg = df_2021_raw.merge(df_2021_eshkol, how = 'inner',right_on = \"set_code\", left_on = \"סמל ישוב\")\n",
        "names_idx = df_2021_raw.index[df_2021_raw[\"סמל ישוב\"].isin(df_2021_eshkol[\"set_code\"])]\n",
        "final_df = check_merg.set_axis(names_idx)\n",
        "print(final_df.shape[0])\n",
        "print(df_2021_raw.shape[0]-final_df.shape[0])\n",
        "final_df.head()"
      ],
      "execution_count": null,
      "outputs": [
        {
          "output_type": "stream",
          "name": "stdout",
          "text": [
            "1171\n",
            "44\n"
          ]
        },
        {
          "output_type": "execute_result",
          "data": {
            "text/html": [
              "<div>\n",
              "<style scoped>\n",
              "    .dataframe tbody tr th:only-of-type {\n",
              "        vertical-align: middle;\n",
              "    }\n",
              "\n",
              "    .dataframe tbody tr th {\n",
              "        vertical-align: top;\n",
              "    }\n",
              "\n",
              "    .dataframe thead th {\n",
              "        text-align: right;\n",
              "    }\n",
              "</style>\n",
              "<table border=\"1\" class=\"dataframe\">\n",
              "  <thead>\n",
              "    <tr style=\"text-align: right;\">\n",
              "      <th></th>\n",
              "      <th>סמל ועדה</th>\n",
              "      <th>סמל ישוב</th>\n",
              "      <th>בזב</th>\n",
              "      <th>מצביעים</th>\n",
              "      <th>פסולים</th>\n",
              "      <th>כשרים</th>\n",
              "      <th>אמת</th>\n",
              "      <th>ב</th>\n",
              "      <th>ג</th>\n",
              "      <th>ודעם</th>\n",
              "      <th>ז</th>\n",
              "      <th>זץ</th>\n",
              "      <th>ט</th>\n",
              "      <th>י</th>\n",
              "      <th>יז</th>\n",
              "      <th>ינ</th>\n",
              "      <th>יף</th>\n",
              "      <th>יק</th>\n",
              "      <th>יר</th>\n",
              "      <th>כ</th>\n",
              "      <th>כך</th>\n",
              "      <th>כן</th>\n",
              "      <th>ל</th>\n",
              "      <th>מחל</th>\n",
              "      <th>מרצ</th>\n",
              "      <th>נ</th>\n",
              "      <th>ני</th>\n",
              "      <th>נר</th>\n",
              "      <th>עם</th>\n",
              "      <th>פה</th>\n",
              "      <th>ףז</th>\n",
              "      <th>צי</th>\n",
              "      <th>צכ</th>\n",
              "      <th>צף</th>\n",
              "      <th>ץ</th>\n",
              "      <th>ק</th>\n",
              "      <th>קי</th>\n",
              "      <th>קך</th>\n",
              "      <th>קץ</th>\n",
              "      <th>ר</th>\n",
              "      <th>רנ</th>\n",
              "      <th>רף</th>\n",
              "      <th>רק</th>\n",
              "      <th>שס</th>\n",
              "      <th>ת</th>\n",
              "      <th>Unnamed: 46</th>\n",
              "      <th>set_code</th>\n",
              "      <th>name</th>\n",
              "      <th>population</th>\n",
              "      <th>index_value</th>\n",
              "      <th>eco_level</th>\n",
              "    </tr>\n",
              "    <tr>\n",
              "      <th>שם ישוב</th>\n",
              "      <th></th>\n",
              "      <th></th>\n",
              "      <th></th>\n",
              "      <th></th>\n",
              "      <th></th>\n",
              "      <th></th>\n",
              "      <th></th>\n",
              "      <th></th>\n",
              "      <th></th>\n",
              "      <th></th>\n",
              "      <th></th>\n",
              "      <th></th>\n",
              "      <th></th>\n",
              "      <th></th>\n",
              "      <th></th>\n",
              "      <th></th>\n",
              "      <th></th>\n",
              "      <th></th>\n",
              "      <th></th>\n",
              "      <th></th>\n",
              "      <th></th>\n",
              "      <th></th>\n",
              "      <th></th>\n",
              "      <th></th>\n",
              "      <th></th>\n",
              "      <th></th>\n",
              "      <th></th>\n",
              "      <th></th>\n",
              "      <th></th>\n",
              "      <th></th>\n",
              "      <th></th>\n",
              "      <th></th>\n",
              "      <th></th>\n",
              "      <th></th>\n",
              "      <th></th>\n",
              "      <th></th>\n",
              "      <th></th>\n",
              "      <th></th>\n",
              "      <th></th>\n",
              "      <th></th>\n",
              "      <th></th>\n",
              "      <th></th>\n",
              "      <th></th>\n",
              "      <th></th>\n",
              "      <th></th>\n",
              "      <th></th>\n",
              "      <th></th>\n",
              "      <th></th>\n",
              "      <th></th>\n",
              "      <th></th>\n",
              "      <th></th>\n",
              "    </tr>\n",
              "  </thead>\n",
              "  <tbody>\n",
              "    <tr>\n",
              "      <th>אבירים</th>\n",
              "      <td>6</td>\n",
              "      <td>1220</td>\n",
              "      <td>221</td>\n",
              "      <td>151</td>\n",
              "      <td>1</td>\n",
              "      <td>150</td>\n",
              "      <td>47</td>\n",
              "      <td>0</td>\n",
              "      <td>0</td>\n",
              "      <td>3</td>\n",
              "      <td>0</td>\n",
              "      <td>0</td>\n",
              "      <td>2</td>\n",
              "      <td>0</td>\n",
              "      <td>3</td>\n",
              "      <td>0</td>\n",
              "      <td>0</td>\n",
              "      <td>0</td>\n",
              "      <td>0</td>\n",
              "      <td>0</td>\n",
              "      <td>0</td>\n",
              "      <td>16</td>\n",
              "      <td>2</td>\n",
              "      <td>5</td>\n",
              "      <td>31</td>\n",
              "      <td>0</td>\n",
              "      <td>0</td>\n",
              "      <td>0</td>\n",
              "      <td>0</td>\n",
              "      <td>27</td>\n",
              "      <td>0</td>\n",
              "      <td>0</td>\n",
              "      <td>0</td>\n",
              "      <td>0</td>\n",
              "      <td>0</td>\n",
              "      <td>0</td>\n",
              "      <td>0</td>\n",
              "      <td>0</td>\n",
              "      <td>0</td>\n",
              "      <td>5</td>\n",
              "      <td>0</td>\n",
              "      <td>0</td>\n",
              "      <td>0</td>\n",
              "      <td>1</td>\n",
              "      <td>8</td>\n",
              "      <td>NaN</td>\n",
              "      <td>1220</td>\n",
              "      <td>??????</td>\n",
              "      <td>194.0</td>\n",
              "      <td>0.734</td>\n",
              "      <td>7</td>\n",
              "    </tr>\n",
              "    <tr>\n",
              "      <th>אדירים</th>\n",
              "      <td>5</td>\n",
              "      <td>113</td>\n",
              "      <td>234</td>\n",
              "      <td>180</td>\n",
              "      <td>0</td>\n",
              "      <td>180</td>\n",
              "      <td>1</td>\n",
              "      <td>7</td>\n",
              "      <td>4</td>\n",
              "      <td>0</td>\n",
              "      <td>0</td>\n",
              "      <td>0</td>\n",
              "      <td>9</td>\n",
              "      <td>0</td>\n",
              "      <td>1</td>\n",
              "      <td>0</td>\n",
              "      <td>0</td>\n",
              "      <td>0</td>\n",
              "      <td>0</td>\n",
              "      <td>0</td>\n",
              "      <td>0</td>\n",
              "      <td>3</td>\n",
              "      <td>0</td>\n",
              "      <td>84</td>\n",
              "      <td>0</td>\n",
              "      <td>0</td>\n",
              "      <td>0</td>\n",
              "      <td>0</td>\n",
              "      <td>0</td>\n",
              "      <td>2</td>\n",
              "      <td>0</td>\n",
              "      <td>0</td>\n",
              "      <td>0</td>\n",
              "      <td>0</td>\n",
              "      <td>0</td>\n",
              "      <td>0</td>\n",
              "      <td>0</td>\n",
              "      <td>0</td>\n",
              "      <td>0</td>\n",
              "      <td>2</td>\n",
              "      <td>0</td>\n",
              "      <td>0</td>\n",
              "      <td>0</td>\n",
              "      <td>61</td>\n",
              "      <td>6</td>\n",
              "      <td>NaN</td>\n",
              "      <td>113</td>\n",
              "      <td>??????</td>\n",
              "      <td>267.0</td>\n",
              "      <td>0.011</td>\n",
              "      <td>5</td>\n",
              "    </tr>\n",
              "    <tr>\n",
              "      <th>אושה</th>\n",
              "      <td>8</td>\n",
              "      <td>278</td>\n",
              "      <td>382</td>\n",
              "      <td>276</td>\n",
              "      <td>0</td>\n",
              "      <td>276</td>\n",
              "      <td>72</td>\n",
              "      <td>7</td>\n",
              "      <td>0</td>\n",
              "      <td>3</td>\n",
              "      <td>0</td>\n",
              "      <td>0</td>\n",
              "      <td>0</td>\n",
              "      <td>0</td>\n",
              "      <td>2</td>\n",
              "      <td>0</td>\n",
              "      <td>0</td>\n",
              "      <td>1</td>\n",
              "      <td>0</td>\n",
              "      <td>0</td>\n",
              "      <td>0</td>\n",
              "      <td>37</td>\n",
              "      <td>8</td>\n",
              "      <td>24</td>\n",
              "      <td>20</td>\n",
              "      <td>0</td>\n",
              "      <td>0</td>\n",
              "      <td>0</td>\n",
              "      <td>0</td>\n",
              "      <td>86</td>\n",
              "      <td>0</td>\n",
              "      <td>0</td>\n",
              "      <td>0</td>\n",
              "      <td>0</td>\n",
              "      <td>0</td>\n",
              "      <td>0</td>\n",
              "      <td>0</td>\n",
              "      <td>0</td>\n",
              "      <td>0</td>\n",
              "      <td>1</td>\n",
              "      <td>0</td>\n",
              "      <td>0</td>\n",
              "      <td>0</td>\n",
              "      <td>0</td>\n",
              "      <td>15</td>\n",
              "      <td>NaN</td>\n",
              "      <td>278</td>\n",
              "      <td>????</td>\n",
              "      <td>462.0</td>\n",
              "      <td>0.873</td>\n",
              "      <td>7</td>\n",
              "    </tr>\n",
              "    <tr>\n",
              "      <th>אחווה</th>\n",
              "      <td>17</td>\n",
              "      <td>1157</td>\n",
              "      <td>183</td>\n",
              "      <td>145</td>\n",
              "      <td>0</td>\n",
              "      <td>145</td>\n",
              "      <td>14</td>\n",
              "      <td>4</td>\n",
              "      <td>0</td>\n",
              "      <td>0</td>\n",
              "      <td>0</td>\n",
              "      <td>0</td>\n",
              "      <td>4</td>\n",
              "      <td>0</td>\n",
              "      <td>0</td>\n",
              "      <td>0</td>\n",
              "      <td>0</td>\n",
              "      <td>0</td>\n",
              "      <td>0</td>\n",
              "      <td>0</td>\n",
              "      <td>0</td>\n",
              "      <td>36</td>\n",
              "      <td>3</td>\n",
              "      <td>27</td>\n",
              "      <td>10</td>\n",
              "      <td>0</td>\n",
              "      <td>0</td>\n",
              "      <td>0</td>\n",
              "      <td>0</td>\n",
              "      <td>37</td>\n",
              "      <td>0</td>\n",
              "      <td>0</td>\n",
              "      <td>0</td>\n",
              "      <td>0</td>\n",
              "      <td>0</td>\n",
              "      <td>0</td>\n",
              "      <td>0</td>\n",
              "      <td>0</td>\n",
              "      <td>0</td>\n",
              "      <td>0</td>\n",
              "      <td>0</td>\n",
              "      <td>0</td>\n",
              "      <td>0</td>\n",
              "      <td>2</td>\n",
              "      <td>8</td>\n",
              "      <td>NaN</td>\n",
              "      <td>1157</td>\n",
              "      <td>?????</td>\n",
              "      <td>159.0</td>\n",
              "      <td>1.085</td>\n",
              "      <td>8</td>\n",
              "    </tr>\n",
              "    <tr>\n",
              "      <th>איבים</th>\n",
              "      <td>17</td>\n",
              "      <td>338</td>\n",
              "      <td>138</td>\n",
              "      <td>40</td>\n",
              "      <td>0</td>\n",
              "      <td>40</td>\n",
              "      <td>0</td>\n",
              "      <td>4</td>\n",
              "      <td>0</td>\n",
              "      <td>0</td>\n",
              "      <td>0</td>\n",
              "      <td>1</td>\n",
              "      <td>10</td>\n",
              "      <td>0</td>\n",
              "      <td>0</td>\n",
              "      <td>0</td>\n",
              "      <td>0</td>\n",
              "      <td>0</td>\n",
              "      <td>0</td>\n",
              "      <td>0</td>\n",
              "      <td>0</td>\n",
              "      <td>5</td>\n",
              "      <td>0</td>\n",
              "      <td>17</td>\n",
              "      <td>0</td>\n",
              "      <td>0</td>\n",
              "      <td>0</td>\n",
              "      <td>1</td>\n",
              "      <td>0</td>\n",
              "      <td>0</td>\n",
              "      <td>0</td>\n",
              "      <td>0</td>\n",
              "      <td>0</td>\n",
              "      <td>0</td>\n",
              "      <td>0</td>\n",
              "      <td>0</td>\n",
              "      <td>0</td>\n",
              "      <td>1</td>\n",
              "      <td>0</td>\n",
              "      <td>0</td>\n",
              "      <td>0</td>\n",
              "      <td>0</td>\n",
              "      <td>0</td>\n",
              "      <td>1</td>\n",
              "      <td>0</td>\n",
              "      <td>NaN</td>\n",
              "      <td>338</td>\n",
              "      <td>?????</td>\n",
              "      <td>277.0</td>\n",
              "      <td>-2.401</td>\n",
              "      <td>1</td>\n",
              "    </tr>\n",
              "  </tbody>\n",
              "</table>\n",
              "</div>"
            ],
            "text/plain": [
              "         סמל ועדה  סמל ישוב  בזב  ...  population  index_value  eco_level\n",
              "שם ישוב                           ...                                    \n",
              "אבירים          6      1220  221  ...       194.0        0.734          7\n",
              "אדירים          5       113  234  ...       267.0        0.011          5\n",
              "אושה            8       278  382  ...       462.0        0.873          7\n",
              "אחווה          17      1157  183  ...       159.0        1.085          8\n",
              "איבים          17       338  138  ...       277.0       -2.401          1\n",
              "\n",
              "[5 rows x 51 columns]"
            ]
          },
          "metadata": {},
          "execution_count": 33
        }
      ]
    },
    {
      "cell_type": "markdown",
      "metadata": {
        "id": "xF694m3B9Fxq"
      },
      "source": [
        "As we can see from the above data, 1171 citys stayed with data and we lost 44 citys that dont have data on both of the data sets."
      ]
    },
    {
      "cell_type": "code",
      "metadata": {
        "id": "Ih0FDQrBzxK2"
      },
      "source": [
        "merge_13 = final_df[parties_dict_2021.keys()]\n",
        "q_merge = merge_13.sum().div(merge_13.sum().sum())"
      ],
      "execution_count": null,
      "outputs": []
    },
    {
      "cell_type": "code",
      "metadata": {
        "id": "Fy9JcD5k_y0W"
      },
      "source": [
        "def old_vs_new(df, thresh, df_2):\n",
        "    width = 0.3  # set column width \n",
        "    votes = df.sum().div(df.sum().sum())  # total votes for each party\n",
        "    n = len(votes)  # number of parties\n",
        "    names = votes.keys()\n",
        "\n",
        "    names = [parties_dict_2021[name] for name in list(names)]\n",
        "    rev_names = [party[::-1] for party in names]\n",
        "    fig, ax = plt.subplots()  # plt.subplots()\n",
        "    df = votes.sort_values()\n",
        "    df_2.sort_values()\n",
        "    all_bar = ax.bar(np.arange(n), list(votes), width, color='r')\n",
        "    city_bar = ax.bar(np.arange(n)+width, list(df_2), width, color='black')\n",
        "\n",
        "    ax.set_ylabel('Votes percent')\n",
        "    ax.set_xlabel('Parties Names')\n",
        "    ax.set_title('Votes percent per party 2021')\n",
        "    ax.set_xticks(np.arange(n),)\n",
        "    ax.set_xticklabels(rev_names,rotation=90)\n",
        "    ax.legend((all_bar[0], city_bar[0]), ('Israel', \"new israel\"))\n",
        "    plt.show()\n",
        "\n",
        "    return fig, ax"
      ],
      "execution_count": null,
      "outputs": []
    },
    {
      "cell_type": "code",
      "metadata": {
        "colab": {
          "base_uri": "https://localhost:8080/",
          "height": 401
        },
        "id": "atbT9I0H_0Pb",
        "outputId": "f7a14bf3-d2be-4b56-b145-4da19ed9e805"
      },
      "source": [
        "old_vs_new(df_2021[parties_dict_2021.keys()],0.035,q_merge)"
      ],
      "execution_count": null,
      "outputs": [
        {
          "output_type": "display_data",
          "data": {
            "image/png": "[encoded data removed]",
            "text/plain": [
              "<Figure size 432x288 with 1 Axes>"
            ]
          },
          "metadata": {
            "needs_background": "light"
          }
        },
        {
          "output_type": "execute_result",
          "data": {
            "text/plain": [
              "(<Figure size 432x288 with 1 Axes>,\n",
              " <matplotlib.axes._subplots.AxesSubplot at 0x7fa24e074050>)"
            ]
          },
          "metadata": {},
          "execution_count": 36
        }
      ]
    },
    {
      "cell_type": "markdown",
      "metadata": {
        "id": "qMMgFOPU9LvD"
      },
      "source": [
        "For the big partys we don't see any different at all, We can see that the religous partys and the right partys had an increase in the votes and the small and lefty partys had a decrease."
      ]
    },
    {
      "cell_type": "markdown",
      "metadata": {
        "id": "CQidBYkFCtj4"
      },
      "source": [
        "# 4\n",
        "# a"
      ]
    },
    {
      "cell_type": "code",
      "metadata": {
        "colab": {
          "base_uri": "https://localhost:8080/",
          "height": 650
        },
        "id": "Bn_0gfzUEw40",
        "outputId": "130d2261-e298-41fd-8017-e04d45948702"
      },
      "source": [
        "def plot_derugs():\n",
        "    fig , axes = plt.subplots(figsize = (20,8),nrows = 2,ncols = 5)\n",
        "    names = parties_dict_2021.keys()\n",
        "    names = [parties_dict_2021[name] for name in list(names)]\n",
        "    rev_names = [party[::-1] for party in names]\n",
        "    social_lvl =1\n",
        "    for n in range(2):\n",
        "        for m in range(5):\n",
        "            print(social_lvl)\n",
        "            data_to_plot = final_df[final_df.eco_level.eq(social_lvl)]\n",
        "            rdy_to_plot = data_to_plot[parties_dict_2021.keys()]\n",
        "            p = rdy_to_plot.sum().div(rdy_to_plot.sum().sum())\n",
        "            axes[n,m].bar(np.arange(13), list(p),0.3,color = \"r\")\n",
        "            axes[n,m].set_xticks(range(0,13))\n",
        "            axes[n,m].set_title('social_level ' + str(social_lvl))\n",
        "            axes[n,m].set_xticklabels(rev_names,rotation=90)\n",
        "            social_lvl += 1\n",
        "    fig.tight_layout()        \n",
        "    plt.show\n",
        "plot_derugs()"
      ],
      "execution_count": null,
      "outputs": [
        {
          "output_type": "stream",
          "name": "stdout",
          "text": [
            "1\n",
            "2\n",
            "3\n",
            "4\n",
            "5\n",
            "6\n",
            "7\n",
            "8\n",
            "9\n",
            "10\n"
          ]
        },
        {
          "output_type": "display_data",
          "data": {
            "image/png": "[encoded data removed]",
            "text/plain": [
              "<Figure size 1440x576 with 10 Axes>"
            ]
          },
          "metadata": {
            "needs_background": "light"
          }
        }
      ]
    },
    {
      "cell_type": "markdown",
      "metadata": {
        "id": "8qxM3T11MI_W"
      },
      "source": [
        "# b"
      ]
    },
    {
      "cell_type": "code",
      "metadata": {
        "colab": {
          "base_uri": "https://localhost:8080/",
          "height": 477
        },
        "id": "ffcjty86MKEi",
        "outputId": "5f99ab27-b1a5-49f6-bafb-832e0f3a7aaf"
      },
      "source": [
        "def plot_eshkolot():\n",
        "    for_agg = final_df.loc[:,list(parties_dict_2021.keys())+['eco_level']]\n",
        "    nice_data = for_agg.groupby('eco_level').agg(\"sum\")\n",
        "    p_mat = nice_data.div(nice_data.sum())\n",
        "    fig , axes = plt.subplots(figsize = (20,8),nrows = 4,ncols = 4)\n",
        "    party_con =0\n",
        "    for n in range(4):\n",
        "        for m in range(4):\n",
        "            axes[n,m].bar(np.arange(10), list(p_mat[p_mat.columns[party_con]]),0.3,color = \"b\")\n",
        "            axes[n,m].set_xticks(range(0,10))\n",
        "            axes[n,m].set_title(parties_dict_2021[p_mat.columns[party_con]][::-1])\n",
        "            axes[n,m].set_xticklabels(np.arange(1,11))\n",
        "            party_con +=1\n",
        "            if party_con == 13:\n",
        "                fig.tight_layout()        \n",
        "                plt.show\n",
        "                break\n",
        "plot_eshkolot()"
      ],
      "execution_count": null,
      "outputs": [
        {
          "output_type": "display_data",
          "data": {
            "image/png": "[encoded data removed]",
            "text/plain": [
              "<Figure size 1440x576 with 16 Axes>"
            ]
          },
          "metadata": {
            "needs_background": "light"
          }
        }
      ]
    }
  ]
}